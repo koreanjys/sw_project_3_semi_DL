{
 "cells": [
  {
   "cell_type": "code",
   "execution_count": 1,
   "id": "b86f9bf0",
   "metadata": {},
   "outputs": [],
   "source": [
    "import warnings\n",
    "warnings.filterwarnings(\"ignore\")\n",
    "\n",
    "import pandas as pd\n",
    "import seaborn as sns\n",
    "from sklearn.model_selection import train_test_split"
   ]
  },
  {
   "cell_type": "code",
   "execution_count": 2,
   "id": "ca9b0e94",
   "metadata": {},
   "outputs": [],
   "source": [
    "data_df = pd.read_csv('./diabetes_data.csv')"
   ]
  },
  {
   "cell_type": "code",
   "execution_count": 3,
   "id": "bd79b003",
   "metadata": {
    "scrolled": false
   },
   "outputs": [
    {
     "data": {
      "text/html": [
       "<div>\n",
       "<style scoped>\n",
       "    .dataframe tbody tr th:only-of-type {\n",
       "        vertical-align: middle;\n",
       "    }\n",
       "\n",
       "    .dataframe tbody tr th {\n",
       "        vertical-align: top;\n",
       "    }\n",
       "\n",
       "    .dataframe thead th {\n",
       "        text-align: right;\n",
       "    }\n",
       "</style>\n",
       "<table border=\"1\" class=\"dataframe\">\n",
       "  <thead>\n",
       "    <tr style=\"text-align: right;\">\n",
       "      <th></th>\n",
       "      <th>Age</th>\n",
       "      <th>Sex</th>\n",
       "      <th>HighChol</th>\n",
       "      <th>CholCheck</th>\n",
       "      <th>BMI</th>\n",
       "      <th>Smoker</th>\n",
       "      <th>HeartDiseaseorAttack</th>\n",
       "      <th>PhysActivity</th>\n",
       "      <th>Fruits</th>\n",
       "      <th>Veggies</th>\n",
       "      <th>HvyAlcoholConsump</th>\n",
       "      <th>GenHlth</th>\n",
       "      <th>MentHlth</th>\n",
       "      <th>PhysHlth</th>\n",
       "      <th>DiffWalk</th>\n",
       "      <th>Stroke</th>\n",
       "      <th>HighBP</th>\n",
       "      <th>Diabetes</th>\n",
       "    </tr>\n",
       "  </thead>\n",
       "  <tbody>\n",
       "    <tr>\n",
       "      <th>0</th>\n",
       "      <td>4.0</td>\n",
       "      <td>1.0</td>\n",
       "      <td>0.0</td>\n",
       "      <td>1.0</td>\n",
       "      <td>26.0</td>\n",
       "      <td>0.0</td>\n",
       "      <td>0.0</td>\n",
       "      <td>1.0</td>\n",
       "      <td>0.0</td>\n",
       "      <td>1.0</td>\n",
       "      <td>0.0</td>\n",
       "      <td>3.0</td>\n",
       "      <td>5.0</td>\n",
       "      <td>30.0</td>\n",
       "      <td>0.0</td>\n",
       "      <td>0.0</td>\n",
       "      <td>1.0</td>\n",
       "      <td>0.0</td>\n",
       "    </tr>\n",
       "    <tr>\n",
       "      <th>1</th>\n",
       "      <td>12.0</td>\n",
       "      <td>1.0</td>\n",
       "      <td>1.0</td>\n",
       "      <td>1.0</td>\n",
       "      <td>26.0</td>\n",
       "      <td>1.0</td>\n",
       "      <td>0.0</td>\n",
       "      <td>0.0</td>\n",
       "      <td>1.0</td>\n",
       "      <td>0.0</td>\n",
       "      <td>0.0</td>\n",
       "      <td>3.0</td>\n",
       "      <td>0.0</td>\n",
       "      <td>0.0</td>\n",
       "      <td>0.0</td>\n",
       "      <td>1.0</td>\n",
       "      <td>1.0</td>\n",
       "      <td>0.0</td>\n",
       "    </tr>\n",
       "    <tr>\n",
       "      <th>2</th>\n",
       "      <td>13.0</td>\n",
       "      <td>1.0</td>\n",
       "      <td>0.0</td>\n",
       "      <td>1.0</td>\n",
       "      <td>26.0</td>\n",
       "      <td>0.0</td>\n",
       "      <td>0.0</td>\n",
       "      <td>1.0</td>\n",
       "      <td>1.0</td>\n",
       "      <td>1.0</td>\n",
       "      <td>0.0</td>\n",
       "      <td>1.0</td>\n",
       "      <td>0.0</td>\n",
       "      <td>10.0</td>\n",
       "      <td>0.0</td>\n",
       "      <td>0.0</td>\n",
       "      <td>0.0</td>\n",
       "      <td>0.0</td>\n",
       "    </tr>\n",
       "    <tr>\n",
       "      <th>3</th>\n",
       "      <td>11.0</td>\n",
       "      <td>1.0</td>\n",
       "      <td>1.0</td>\n",
       "      <td>1.0</td>\n",
       "      <td>28.0</td>\n",
       "      <td>1.0</td>\n",
       "      <td>0.0</td>\n",
       "      <td>1.0</td>\n",
       "      <td>1.0</td>\n",
       "      <td>1.0</td>\n",
       "      <td>0.0</td>\n",
       "      <td>3.0</td>\n",
       "      <td>0.0</td>\n",
       "      <td>3.0</td>\n",
       "      <td>0.0</td>\n",
       "      <td>0.0</td>\n",
       "      <td>1.0</td>\n",
       "      <td>0.0</td>\n",
       "    </tr>\n",
       "    <tr>\n",
       "      <th>4</th>\n",
       "      <td>8.0</td>\n",
       "      <td>0.0</td>\n",
       "      <td>0.0</td>\n",
       "      <td>1.0</td>\n",
       "      <td>29.0</td>\n",
       "      <td>1.0</td>\n",
       "      <td>0.0</td>\n",
       "      <td>1.0</td>\n",
       "      <td>1.0</td>\n",
       "      <td>1.0</td>\n",
       "      <td>0.0</td>\n",
       "      <td>2.0</td>\n",
       "      <td>0.0</td>\n",
       "      <td>0.0</td>\n",
       "      <td>0.0</td>\n",
       "      <td>0.0</td>\n",
       "      <td>0.0</td>\n",
       "      <td>0.0</td>\n",
       "    </tr>\n",
       "  </tbody>\n",
       "</table>\n",
       "</div>"
      ],
      "text/plain": [
       "    Age  Sex  HighChol  CholCheck   BMI  Smoker  HeartDiseaseorAttack  \\\n",
       "0   4.0  1.0       0.0        1.0  26.0     0.0                   0.0   \n",
       "1  12.0  1.0       1.0        1.0  26.0     1.0                   0.0   \n",
       "2  13.0  1.0       0.0        1.0  26.0     0.0                   0.0   \n",
       "3  11.0  1.0       1.0        1.0  28.0     1.0                   0.0   \n",
       "4   8.0  0.0       0.0        1.0  29.0     1.0                   0.0   \n",
       "\n",
       "   PhysActivity  Fruits  Veggies  HvyAlcoholConsump  GenHlth  MentHlth  \\\n",
       "0           1.0     0.0      1.0                0.0      3.0       5.0   \n",
       "1           0.0     1.0      0.0                0.0      3.0       0.0   \n",
       "2           1.0     1.0      1.0                0.0      1.0       0.0   \n",
       "3           1.0     1.0      1.0                0.0      3.0       0.0   \n",
       "4           1.0     1.0      1.0                0.0      2.0       0.0   \n",
       "\n",
       "   PhysHlth  DiffWalk  Stroke  HighBP  Diabetes  \n",
       "0      30.0       0.0     0.0     1.0       0.0  \n",
       "1       0.0       0.0     1.0     1.0       0.0  \n",
       "2      10.0       0.0     0.0     0.0       0.0  \n",
       "3       3.0       0.0     0.0     1.0       0.0  \n",
       "4       0.0       0.0     0.0     0.0       0.0  "
      ]
     },
     "execution_count": 3,
     "metadata": {},
     "output_type": "execute_result"
    }
   ],
   "source": [
    "data_df.head(5)"
   ]
  },
  {
   "cell_type": "code",
   "execution_count": 4,
   "id": "275a2a24",
   "metadata": {
    "scrolled": true
   },
   "outputs": [
    {
     "name": "stdout",
     "output_type": "stream",
     "text": [
      "<class 'pandas.core.frame.DataFrame'>\n",
      "RangeIndex: 70692 entries, 0 to 70691\n",
      "Data columns (total 18 columns):\n",
      " #   Column                Non-Null Count  Dtype  \n",
      "---  ------                --------------  -----  \n",
      " 0   Age                   70692 non-null  float64\n",
      " 1   Sex                   70692 non-null  float64\n",
      " 2   HighChol              70692 non-null  float64\n",
      " 3   CholCheck             70692 non-null  float64\n",
      " 4   BMI                   70692 non-null  float64\n",
      " 5   Smoker                70692 non-null  float64\n",
      " 6   HeartDiseaseorAttack  70692 non-null  float64\n",
      " 7   PhysActivity          70692 non-null  float64\n",
      " 8   Fruits                70692 non-null  float64\n",
      " 9   Veggies               70692 non-null  float64\n",
      " 10  HvyAlcoholConsump     70692 non-null  float64\n",
      " 11  GenHlth               70692 non-null  float64\n",
      " 12  MentHlth              70692 non-null  float64\n",
      " 13  PhysHlth              70692 non-null  float64\n",
      " 14  DiffWalk              70692 non-null  float64\n",
      " 15  Stroke                70692 non-null  float64\n",
      " 16  HighBP                70692 non-null  float64\n",
      " 17  Diabetes              70692 non-null  float64\n",
      "dtypes: float64(18)\n",
      "memory usage: 9.7 MB\n"
     ]
    }
   ],
   "source": [
    "data_df.info()"
   ]
  },
  {
   "cell_type": "code",
   "execution_count": 5,
   "id": "759476b4",
   "metadata": {
    "scrolled": false
   },
   "outputs": [
    {
     "data": {
      "text/html": [
       "<div>\n",
       "<style scoped>\n",
       "    .dataframe tbody tr th:only-of-type {\n",
       "        vertical-align: middle;\n",
       "    }\n",
       "\n",
       "    .dataframe tbody tr th {\n",
       "        vertical-align: top;\n",
       "    }\n",
       "\n",
       "    .dataframe thead th {\n",
       "        text-align: right;\n",
       "    }\n",
       "</style>\n",
       "<table border=\"1\" class=\"dataframe\">\n",
       "  <thead>\n",
       "    <tr style=\"text-align: right;\">\n",
       "      <th></th>\n",
       "      <th>Age</th>\n",
       "      <th>Sex</th>\n",
       "      <th>HighChol</th>\n",
       "      <th>CholCheck</th>\n",
       "      <th>BMI</th>\n",
       "      <th>Smoker</th>\n",
       "      <th>HeartDiseaseorAttack</th>\n",
       "      <th>PhysActivity</th>\n",
       "      <th>Fruits</th>\n",
       "      <th>Veggies</th>\n",
       "      <th>HvyAlcoholConsump</th>\n",
       "      <th>GenHlth</th>\n",
       "      <th>MentHlth</th>\n",
       "      <th>PhysHlth</th>\n",
       "      <th>DiffWalk</th>\n",
       "      <th>Stroke</th>\n",
       "      <th>HighBP</th>\n",
       "      <th>Diabetes</th>\n",
       "    </tr>\n",
       "  </thead>\n",
       "  <tbody>\n",
       "    <tr>\n",
       "      <th>count</th>\n",
       "      <td>70692.000000</td>\n",
       "      <td>70692.000000</td>\n",
       "      <td>70692.000000</td>\n",
       "      <td>70692.000000</td>\n",
       "      <td>70692.000000</td>\n",
       "      <td>70692.000000</td>\n",
       "      <td>70692.000000</td>\n",
       "      <td>70692.000000</td>\n",
       "      <td>70692.000000</td>\n",
       "      <td>70692.000000</td>\n",
       "      <td>70692.000000</td>\n",
       "      <td>70692.000000</td>\n",
       "      <td>70692.000000</td>\n",
       "      <td>70692.000000</td>\n",
       "      <td>70692.000000</td>\n",
       "      <td>70692.000000</td>\n",
       "      <td>70692.000000</td>\n",
       "      <td>70692.000000</td>\n",
       "    </tr>\n",
       "    <tr>\n",
       "      <th>mean</th>\n",
       "      <td>8.584055</td>\n",
       "      <td>0.456997</td>\n",
       "      <td>0.525703</td>\n",
       "      <td>0.975259</td>\n",
       "      <td>29.856985</td>\n",
       "      <td>0.475273</td>\n",
       "      <td>0.147810</td>\n",
       "      <td>0.703036</td>\n",
       "      <td>0.611795</td>\n",
       "      <td>0.788774</td>\n",
       "      <td>0.042721</td>\n",
       "      <td>2.837082</td>\n",
       "      <td>3.752037</td>\n",
       "      <td>5.810417</td>\n",
       "      <td>0.252730</td>\n",
       "      <td>0.062171</td>\n",
       "      <td>0.563458</td>\n",
       "      <td>0.500000</td>\n",
       "    </tr>\n",
       "    <tr>\n",
       "      <th>std</th>\n",
       "      <td>2.852153</td>\n",
       "      <td>0.498151</td>\n",
       "      <td>0.499342</td>\n",
       "      <td>0.155336</td>\n",
       "      <td>7.113954</td>\n",
       "      <td>0.499392</td>\n",
       "      <td>0.354914</td>\n",
       "      <td>0.456924</td>\n",
       "      <td>0.487345</td>\n",
       "      <td>0.408181</td>\n",
       "      <td>0.202228</td>\n",
       "      <td>1.113565</td>\n",
       "      <td>8.155627</td>\n",
       "      <td>10.062261</td>\n",
       "      <td>0.434581</td>\n",
       "      <td>0.241468</td>\n",
       "      <td>0.495960</td>\n",
       "      <td>0.500004</td>\n",
       "    </tr>\n",
       "    <tr>\n",
       "      <th>min</th>\n",
       "      <td>1.000000</td>\n",
       "      <td>0.000000</td>\n",
       "      <td>0.000000</td>\n",
       "      <td>0.000000</td>\n",
       "      <td>12.000000</td>\n",
       "      <td>0.000000</td>\n",
       "      <td>0.000000</td>\n",
       "      <td>0.000000</td>\n",
       "      <td>0.000000</td>\n",
       "      <td>0.000000</td>\n",
       "      <td>0.000000</td>\n",
       "      <td>1.000000</td>\n",
       "      <td>0.000000</td>\n",
       "      <td>0.000000</td>\n",
       "      <td>0.000000</td>\n",
       "      <td>0.000000</td>\n",
       "      <td>0.000000</td>\n",
       "      <td>0.000000</td>\n",
       "    </tr>\n",
       "    <tr>\n",
       "      <th>25%</th>\n",
       "      <td>7.000000</td>\n",
       "      <td>0.000000</td>\n",
       "      <td>0.000000</td>\n",
       "      <td>1.000000</td>\n",
       "      <td>25.000000</td>\n",
       "      <td>0.000000</td>\n",
       "      <td>0.000000</td>\n",
       "      <td>0.000000</td>\n",
       "      <td>0.000000</td>\n",
       "      <td>1.000000</td>\n",
       "      <td>0.000000</td>\n",
       "      <td>2.000000</td>\n",
       "      <td>0.000000</td>\n",
       "      <td>0.000000</td>\n",
       "      <td>0.000000</td>\n",
       "      <td>0.000000</td>\n",
       "      <td>0.000000</td>\n",
       "      <td>0.000000</td>\n",
       "    </tr>\n",
       "    <tr>\n",
       "      <th>50%</th>\n",
       "      <td>9.000000</td>\n",
       "      <td>0.000000</td>\n",
       "      <td>1.000000</td>\n",
       "      <td>1.000000</td>\n",
       "      <td>29.000000</td>\n",
       "      <td>0.000000</td>\n",
       "      <td>0.000000</td>\n",
       "      <td>1.000000</td>\n",
       "      <td>1.000000</td>\n",
       "      <td>1.000000</td>\n",
       "      <td>0.000000</td>\n",
       "      <td>3.000000</td>\n",
       "      <td>0.000000</td>\n",
       "      <td>0.000000</td>\n",
       "      <td>0.000000</td>\n",
       "      <td>0.000000</td>\n",
       "      <td>1.000000</td>\n",
       "      <td>0.500000</td>\n",
       "    </tr>\n",
       "    <tr>\n",
       "      <th>75%</th>\n",
       "      <td>11.000000</td>\n",
       "      <td>1.000000</td>\n",
       "      <td>1.000000</td>\n",
       "      <td>1.000000</td>\n",
       "      <td>33.000000</td>\n",
       "      <td>1.000000</td>\n",
       "      <td>0.000000</td>\n",
       "      <td>1.000000</td>\n",
       "      <td>1.000000</td>\n",
       "      <td>1.000000</td>\n",
       "      <td>0.000000</td>\n",
       "      <td>4.000000</td>\n",
       "      <td>2.000000</td>\n",
       "      <td>6.000000</td>\n",
       "      <td>1.000000</td>\n",
       "      <td>0.000000</td>\n",
       "      <td>1.000000</td>\n",
       "      <td>1.000000</td>\n",
       "    </tr>\n",
       "    <tr>\n",
       "      <th>max</th>\n",
       "      <td>13.000000</td>\n",
       "      <td>1.000000</td>\n",
       "      <td>1.000000</td>\n",
       "      <td>1.000000</td>\n",
       "      <td>98.000000</td>\n",
       "      <td>1.000000</td>\n",
       "      <td>1.000000</td>\n",
       "      <td>1.000000</td>\n",
       "      <td>1.000000</td>\n",
       "      <td>1.000000</td>\n",
       "      <td>1.000000</td>\n",
       "      <td>5.000000</td>\n",
       "      <td>30.000000</td>\n",
       "      <td>30.000000</td>\n",
       "      <td>1.000000</td>\n",
       "      <td>1.000000</td>\n",
       "      <td>1.000000</td>\n",
       "      <td>1.000000</td>\n",
       "    </tr>\n",
       "  </tbody>\n",
       "</table>\n",
       "</div>"
      ],
      "text/plain": [
       "                Age           Sex      HighChol     CholCheck           BMI  \\\n",
       "count  70692.000000  70692.000000  70692.000000  70692.000000  70692.000000   \n",
       "mean       8.584055      0.456997      0.525703      0.975259     29.856985   \n",
       "std        2.852153      0.498151      0.499342      0.155336      7.113954   \n",
       "min        1.000000      0.000000      0.000000      0.000000     12.000000   \n",
       "25%        7.000000      0.000000      0.000000      1.000000     25.000000   \n",
       "50%        9.000000      0.000000      1.000000      1.000000     29.000000   \n",
       "75%       11.000000      1.000000      1.000000      1.000000     33.000000   \n",
       "max       13.000000      1.000000      1.000000      1.000000     98.000000   \n",
       "\n",
       "             Smoker  HeartDiseaseorAttack  PhysActivity        Fruits  \\\n",
       "count  70692.000000          70692.000000  70692.000000  70692.000000   \n",
       "mean       0.475273              0.147810      0.703036      0.611795   \n",
       "std        0.499392              0.354914      0.456924      0.487345   \n",
       "min        0.000000              0.000000      0.000000      0.000000   \n",
       "25%        0.000000              0.000000      0.000000      0.000000   \n",
       "50%        0.000000              0.000000      1.000000      1.000000   \n",
       "75%        1.000000              0.000000      1.000000      1.000000   \n",
       "max        1.000000              1.000000      1.000000      1.000000   \n",
       "\n",
       "            Veggies  HvyAlcoholConsump       GenHlth      MentHlth  \\\n",
       "count  70692.000000       70692.000000  70692.000000  70692.000000   \n",
       "mean       0.788774           0.042721      2.837082      3.752037   \n",
       "std        0.408181           0.202228      1.113565      8.155627   \n",
       "min        0.000000           0.000000      1.000000      0.000000   \n",
       "25%        1.000000           0.000000      2.000000      0.000000   \n",
       "50%        1.000000           0.000000      3.000000      0.000000   \n",
       "75%        1.000000           0.000000      4.000000      2.000000   \n",
       "max        1.000000           1.000000      5.000000     30.000000   \n",
       "\n",
       "           PhysHlth      DiffWalk        Stroke        HighBP      Diabetes  \n",
       "count  70692.000000  70692.000000  70692.000000  70692.000000  70692.000000  \n",
       "mean       5.810417      0.252730      0.062171      0.563458      0.500000  \n",
       "std       10.062261      0.434581      0.241468      0.495960      0.500004  \n",
       "min        0.000000      0.000000      0.000000      0.000000      0.000000  \n",
       "25%        0.000000      0.000000      0.000000      0.000000      0.000000  \n",
       "50%        0.000000      0.000000      0.000000      1.000000      0.500000  \n",
       "75%        6.000000      1.000000      0.000000      1.000000      1.000000  \n",
       "max       30.000000      1.000000      1.000000      1.000000      1.000000  "
      ]
     },
     "execution_count": 5,
     "metadata": {},
     "output_type": "execute_result"
    }
   ],
   "source": [
    "data_df.describe()"
   ]
  },
  {
   "cell_type": "code",
   "execution_count": 6,
   "id": "b889572b",
   "metadata": {},
   "outputs": [],
   "source": [
    "df1 = data_df.copy()"
   ]
  },
  {
   "cell_type": "code",
   "execution_count": 7,
   "id": "5bdfc504",
   "metadata": {
    "scrolled": false
   },
   "outputs": [
    {
     "data": {
      "text/html": [
       "<div>\n",
       "<style scoped>\n",
       "    .dataframe tbody tr th:only-of-type {\n",
       "        vertical-align: middle;\n",
       "    }\n",
       "\n",
       "    .dataframe tbody tr th {\n",
       "        vertical-align: top;\n",
       "    }\n",
       "\n",
       "    .dataframe thead th {\n",
       "        text-align: right;\n",
       "    }\n",
       "</style>\n",
       "<table border=\"1\" class=\"dataframe\">\n",
       "  <thead>\n",
       "    <tr style=\"text-align: right;\">\n",
       "      <th></th>\n",
       "      <th>Diabetes</th>\n",
       "    </tr>\n",
       "  </thead>\n",
       "  <tbody>\n",
       "    <tr>\n",
       "      <th>0</th>\n",
       "      <td>0.0</td>\n",
       "    </tr>\n",
       "    <tr>\n",
       "      <th>1</th>\n",
       "      <td>0.0</td>\n",
       "    </tr>\n",
       "    <tr>\n",
       "      <th>2</th>\n",
       "      <td>0.0</td>\n",
       "    </tr>\n",
       "    <tr>\n",
       "      <th>3</th>\n",
       "      <td>0.0</td>\n",
       "    </tr>\n",
       "    <tr>\n",
       "      <th>4</th>\n",
       "      <td>0.0</td>\n",
       "    </tr>\n",
       "    <tr>\n",
       "      <th>...</th>\n",
       "      <td>...</td>\n",
       "    </tr>\n",
       "    <tr>\n",
       "      <th>70687</th>\n",
       "      <td>1.0</td>\n",
       "    </tr>\n",
       "    <tr>\n",
       "      <th>70688</th>\n",
       "      <td>1.0</td>\n",
       "    </tr>\n",
       "    <tr>\n",
       "      <th>70689</th>\n",
       "      <td>1.0</td>\n",
       "    </tr>\n",
       "    <tr>\n",
       "      <th>70690</th>\n",
       "      <td>1.0</td>\n",
       "    </tr>\n",
       "    <tr>\n",
       "      <th>70691</th>\n",
       "      <td>1.0</td>\n",
       "    </tr>\n",
       "  </tbody>\n",
       "</table>\n",
       "<p>70692 rows × 1 columns</p>\n",
       "</div>"
      ],
      "text/plain": [
       "       Diabetes\n",
       "0           0.0\n",
       "1           0.0\n",
       "2           0.0\n",
       "3           0.0\n",
       "4           0.0\n",
       "...         ...\n",
       "70687       1.0\n",
       "70688       1.0\n",
       "70689       1.0\n",
       "70690       1.0\n",
       "70691       1.0\n",
       "\n",
       "[70692 rows x 1 columns]"
      ]
     },
     "execution_count": 7,
     "metadata": {},
     "output_type": "execute_result"
    }
   ],
   "source": [
    "y_data = df1[['Diabetes']]\n",
    "y_data"
   ]
  },
  {
   "cell_type": "code",
   "execution_count": 8,
   "id": "326c945a",
   "metadata": {
    "scrolled": true
   },
   "outputs": [
    {
     "data": {
      "text/html": [
       "<div>\n",
       "<style scoped>\n",
       "    .dataframe tbody tr th:only-of-type {\n",
       "        vertical-align: middle;\n",
       "    }\n",
       "\n",
       "    .dataframe tbody tr th {\n",
       "        vertical-align: top;\n",
       "    }\n",
       "\n",
       "    .dataframe thead th {\n",
       "        text-align: right;\n",
       "    }\n",
       "</style>\n",
       "<table border=\"1\" class=\"dataframe\">\n",
       "  <thead>\n",
       "    <tr style=\"text-align: right;\">\n",
       "      <th></th>\n",
       "      <th>Sex</th>\n",
       "      <th>HighChol</th>\n",
       "      <th>CholCheck</th>\n",
       "      <th>BMI</th>\n",
       "      <th>Smoker</th>\n",
       "      <th>HeartDiseaseorAttack</th>\n",
       "      <th>PhysActivity</th>\n",
       "      <th>Fruits</th>\n",
       "      <th>Veggies</th>\n",
       "      <th>HvyAlcoholConsump</th>\n",
       "      <th>DiffWalk</th>\n",
       "      <th>Stroke</th>\n",
       "      <th>HighBP</th>\n",
       "    </tr>\n",
       "  </thead>\n",
       "  <tbody>\n",
       "    <tr>\n",
       "      <th>0</th>\n",
       "      <td>1.0</td>\n",
       "      <td>0.0</td>\n",
       "      <td>1.0</td>\n",
       "      <td>26.0</td>\n",
       "      <td>0.0</td>\n",
       "      <td>0.0</td>\n",
       "      <td>1.0</td>\n",
       "      <td>0.0</td>\n",
       "      <td>1.0</td>\n",
       "      <td>0.0</td>\n",
       "      <td>0.0</td>\n",
       "      <td>0.0</td>\n",
       "      <td>1.0</td>\n",
       "    </tr>\n",
       "    <tr>\n",
       "      <th>1</th>\n",
       "      <td>1.0</td>\n",
       "      <td>1.0</td>\n",
       "      <td>1.0</td>\n",
       "      <td>26.0</td>\n",
       "      <td>1.0</td>\n",
       "      <td>0.0</td>\n",
       "      <td>0.0</td>\n",
       "      <td>1.0</td>\n",
       "      <td>0.0</td>\n",
       "      <td>0.0</td>\n",
       "      <td>0.0</td>\n",
       "      <td>1.0</td>\n",
       "      <td>1.0</td>\n",
       "    </tr>\n",
       "    <tr>\n",
       "      <th>2</th>\n",
       "      <td>1.0</td>\n",
       "      <td>0.0</td>\n",
       "      <td>1.0</td>\n",
       "      <td>26.0</td>\n",
       "      <td>0.0</td>\n",
       "      <td>0.0</td>\n",
       "      <td>1.0</td>\n",
       "      <td>1.0</td>\n",
       "      <td>1.0</td>\n",
       "      <td>0.0</td>\n",
       "      <td>0.0</td>\n",
       "      <td>0.0</td>\n",
       "      <td>0.0</td>\n",
       "    </tr>\n",
       "    <tr>\n",
       "      <th>3</th>\n",
       "      <td>1.0</td>\n",
       "      <td>1.0</td>\n",
       "      <td>1.0</td>\n",
       "      <td>28.0</td>\n",
       "      <td>1.0</td>\n",
       "      <td>0.0</td>\n",
       "      <td>1.0</td>\n",
       "      <td>1.0</td>\n",
       "      <td>1.0</td>\n",
       "      <td>0.0</td>\n",
       "      <td>0.0</td>\n",
       "      <td>0.0</td>\n",
       "      <td>1.0</td>\n",
       "    </tr>\n",
       "    <tr>\n",
       "      <th>4</th>\n",
       "      <td>0.0</td>\n",
       "      <td>0.0</td>\n",
       "      <td>1.0</td>\n",
       "      <td>29.0</td>\n",
       "      <td>1.0</td>\n",
       "      <td>0.0</td>\n",
       "      <td>1.0</td>\n",
       "      <td>1.0</td>\n",
       "      <td>1.0</td>\n",
       "      <td>0.0</td>\n",
       "      <td>0.0</td>\n",
       "      <td>0.0</td>\n",
       "      <td>0.0</td>\n",
       "    </tr>\n",
       "    <tr>\n",
       "      <th>...</th>\n",
       "      <td>...</td>\n",
       "      <td>...</td>\n",
       "      <td>...</td>\n",
       "      <td>...</td>\n",
       "      <td>...</td>\n",
       "      <td>...</td>\n",
       "      <td>...</td>\n",
       "      <td>...</td>\n",
       "      <td>...</td>\n",
       "      <td>...</td>\n",
       "      <td>...</td>\n",
       "      <td>...</td>\n",
       "      <td>...</td>\n",
       "    </tr>\n",
       "    <tr>\n",
       "      <th>70687</th>\n",
       "      <td>0.0</td>\n",
       "      <td>1.0</td>\n",
       "      <td>1.0</td>\n",
       "      <td>37.0</td>\n",
       "      <td>0.0</td>\n",
       "      <td>0.0</td>\n",
       "      <td>0.0</td>\n",
       "      <td>0.0</td>\n",
       "      <td>1.0</td>\n",
       "      <td>0.0</td>\n",
       "      <td>0.0</td>\n",
       "      <td>0.0</td>\n",
       "      <td>0.0</td>\n",
       "    </tr>\n",
       "    <tr>\n",
       "      <th>70688</th>\n",
       "      <td>1.0</td>\n",
       "      <td>1.0</td>\n",
       "      <td>1.0</td>\n",
       "      <td>29.0</td>\n",
       "      <td>1.0</td>\n",
       "      <td>1.0</td>\n",
       "      <td>0.0</td>\n",
       "      <td>1.0</td>\n",
       "      <td>1.0</td>\n",
       "      <td>0.0</td>\n",
       "      <td>1.0</td>\n",
       "      <td>0.0</td>\n",
       "      <td>0.0</td>\n",
       "    </tr>\n",
       "    <tr>\n",
       "      <th>70689</th>\n",
       "      <td>0.0</td>\n",
       "      <td>1.0</td>\n",
       "      <td>1.0</td>\n",
       "      <td>25.0</td>\n",
       "      <td>0.0</td>\n",
       "      <td>1.0</td>\n",
       "      <td>0.0</td>\n",
       "      <td>1.0</td>\n",
       "      <td>0.0</td>\n",
       "      <td>0.0</td>\n",
       "      <td>1.0</td>\n",
       "      <td>0.0</td>\n",
       "      <td>1.0</td>\n",
       "    </tr>\n",
       "    <tr>\n",
       "      <th>70690</th>\n",
       "      <td>0.0</td>\n",
       "      <td>1.0</td>\n",
       "      <td>1.0</td>\n",
       "      <td>18.0</td>\n",
       "      <td>0.0</td>\n",
       "      <td>0.0</td>\n",
       "      <td>0.0</td>\n",
       "      <td>0.0</td>\n",
       "      <td>0.0</td>\n",
       "      <td>0.0</td>\n",
       "      <td>1.0</td>\n",
       "      <td>0.0</td>\n",
       "      <td>1.0</td>\n",
       "    </tr>\n",
       "    <tr>\n",
       "      <th>70691</th>\n",
       "      <td>0.0</td>\n",
       "      <td>1.0</td>\n",
       "      <td>1.0</td>\n",
       "      <td>25.0</td>\n",
       "      <td>0.0</td>\n",
       "      <td>1.0</td>\n",
       "      <td>1.0</td>\n",
       "      <td>1.0</td>\n",
       "      <td>0.0</td>\n",
       "      <td>0.0</td>\n",
       "      <td>0.0</td>\n",
       "      <td>0.0</td>\n",
       "      <td>1.0</td>\n",
       "    </tr>\n",
       "  </tbody>\n",
       "</table>\n",
       "<p>70692 rows × 13 columns</p>\n",
       "</div>"
      ],
      "text/plain": [
       "       Sex  HighChol  CholCheck   BMI  Smoker  HeartDiseaseorAttack  \\\n",
       "0      1.0       0.0        1.0  26.0     0.0                   0.0   \n",
       "1      1.0       1.0        1.0  26.0     1.0                   0.0   \n",
       "2      1.0       0.0        1.0  26.0     0.0                   0.0   \n",
       "3      1.0       1.0        1.0  28.0     1.0                   0.0   \n",
       "4      0.0       0.0        1.0  29.0     1.0                   0.0   \n",
       "...    ...       ...        ...   ...     ...                   ...   \n",
       "70687  0.0       1.0        1.0  37.0     0.0                   0.0   \n",
       "70688  1.0       1.0        1.0  29.0     1.0                   1.0   \n",
       "70689  0.0       1.0        1.0  25.0     0.0                   1.0   \n",
       "70690  0.0       1.0        1.0  18.0     0.0                   0.0   \n",
       "70691  0.0       1.0        1.0  25.0     0.0                   1.0   \n",
       "\n",
       "       PhysActivity  Fruits  Veggies  HvyAlcoholConsump  DiffWalk  Stroke  \\\n",
       "0               1.0     0.0      1.0                0.0       0.0     0.0   \n",
       "1               0.0     1.0      0.0                0.0       0.0     1.0   \n",
       "2               1.0     1.0      1.0                0.0       0.0     0.0   \n",
       "3               1.0     1.0      1.0                0.0       0.0     0.0   \n",
       "4               1.0     1.0      1.0                0.0       0.0     0.0   \n",
       "...             ...     ...      ...                ...       ...     ...   \n",
       "70687           0.0     0.0      1.0                0.0       0.0     0.0   \n",
       "70688           0.0     1.0      1.0                0.0       1.0     0.0   \n",
       "70689           0.0     1.0      0.0                0.0       1.0     0.0   \n",
       "70690           0.0     0.0      0.0                0.0       1.0     0.0   \n",
       "70691           1.0     1.0      0.0                0.0       0.0     0.0   \n",
       "\n",
       "       HighBP  \n",
       "0         1.0  \n",
       "1         1.0  \n",
       "2         0.0  \n",
       "3         1.0  \n",
       "4         0.0  \n",
       "...       ...  \n",
       "70687     0.0  \n",
       "70688     0.0  \n",
       "70689     1.0  \n",
       "70690     1.0  \n",
       "70691     1.0  \n",
       "\n",
       "[70692 rows x 13 columns]"
      ]
     },
     "execution_count": 8,
     "metadata": {},
     "output_type": "execute_result"
    }
   ],
   "source": [
    "del df1['Diabetes']\n",
    "x_data = df1\n",
    "x_data = x_data[['Sex', 'HighChol', 'CholCheck', 'BMI', 'Smoker', 'HeartDiseaseorAttack',  'PhysActivity',  'Fruits', 'Veggies', 'HvyAlcoholConsump',  'DiffWalk', 'Stroke', 'HighBP']]\n",
    "x_data\n",
    "\n",
    "# x_data에 Age, GenHlth, MentHlth, PhysHlth 삭제"
   ]
  },
  {
   "cell_type": "code",
   "execution_count": 9,
   "id": "69ba17dc",
   "metadata": {},
   "outputs": [],
   "source": [
    "x_train, x_test, y_train, y_test = train_test_split(x_data, y_data, test_size=0.2, random_state=33)"
   ]
  },
  {
   "cell_type": "code",
   "execution_count": 10,
   "id": "73ab8207",
   "metadata": {
    "scrolled": true
   },
   "outputs": [
    {
     "data": {
      "text/plain": [
       "(56553, 13)"
      ]
     },
     "execution_count": 10,
     "metadata": {},
     "output_type": "execute_result"
    }
   ],
   "source": [
    "x_train.shape"
   ]
  },
  {
   "cell_type": "code",
   "execution_count": 11,
   "id": "52e22f48",
   "metadata": {},
   "outputs": [
    {
     "data": {
      "text/plain": [
       "(14139, 13)"
      ]
     },
     "execution_count": 11,
     "metadata": {},
     "output_type": "execute_result"
    }
   ],
   "source": [
    "x_test.shape"
   ]
  },
  {
   "cell_type": "code",
   "execution_count": 12,
   "id": "362f71f2",
   "metadata": {
    "scrolled": false
   },
   "outputs": [
    {
     "data": {
      "text/html": [
       "<div>\n",
       "<style scoped>\n",
       "    .dataframe tbody tr th:only-of-type {\n",
       "        vertical-align: middle;\n",
       "    }\n",
       "\n",
       "    .dataframe tbody tr th {\n",
       "        vertical-align: top;\n",
       "    }\n",
       "\n",
       "    .dataframe thead th {\n",
       "        text-align: right;\n",
       "    }\n",
       "</style>\n",
       "<table border=\"1\" class=\"dataframe\">\n",
       "  <thead>\n",
       "    <tr style=\"text-align: right;\">\n",
       "      <th></th>\n",
       "      <th>Sex</th>\n",
       "      <th>HighChol</th>\n",
       "      <th>CholCheck</th>\n",
       "      <th>BMI</th>\n",
       "      <th>Smoker</th>\n",
       "      <th>HeartDiseaseorAttack</th>\n",
       "      <th>PhysActivity</th>\n",
       "      <th>Fruits</th>\n",
       "      <th>Veggies</th>\n",
       "      <th>HvyAlcoholConsump</th>\n",
       "      <th>DiffWalk</th>\n",
       "      <th>Stroke</th>\n",
       "      <th>HighBP</th>\n",
       "    </tr>\n",
       "  </thead>\n",
       "  <tbody>\n",
       "    <tr>\n",
       "      <th>0</th>\n",
       "      <td>1.0</td>\n",
       "      <td>0.0</td>\n",
       "      <td>1.0</td>\n",
       "      <td>26.0</td>\n",
       "      <td>0.0</td>\n",
       "      <td>0.0</td>\n",
       "      <td>1.0</td>\n",
       "      <td>0.0</td>\n",
       "      <td>1.0</td>\n",
       "      <td>0.0</td>\n",
       "      <td>0.0</td>\n",
       "      <td>0.0</td>\n",
       "      <td>1.0</td>\n",
       "    </tr>\n",
       "    <tr>\n",
       "      <th>1</th>\n",
       "      <td>1.0</td>\n",
       "      <td>1.0</td>\n",
       "      <td>1.0</td>\n",
       "      <td>26.0</td>\n",
       "      <td>1.0</td>\n",
       "      <td>0.0</td>\n",
       "      <td>0.0</td>\n",
       "      <td>1.0</td>\n",
       "      <td>0.0</td>\n",
       "      <td>0.0</td>\n",
       "      <td>0.0</td>\n",
       "      <td>1.0</td>\n",
       "      <td>1.0</td>\n",
       "    </tr>\n",
       "    <tr>\n",
       "      <th>2</th>\n",
       "      <td>1.0</td>\n",
       "      <td>0.0</td>\n",
       "      <td>1.0</td>\n",
       "      <td>26.0</td>\n",
       "      <td>0.0</td>\n",
       "      <td>0.0</td>\n",
       "      <td>1.0</td>\n",
       "      <td>1.0</td>\n",
       "      <td>1.0</td>\n",
       "      <td>0.0</td>\n",
       "      <td>0.0</td>\n",
       "      <td>0.0</td>\n",
       "      <td>0.0</td>\n",
       "    </tr>\n",
       "    <tr>\n",
       "      <th>3</th>\n",
       "      <td>1.0</td>\n",
       "      <td>1.0</td>\n",
       "      <td>1.0</td>\n",
       "      <td>28.0</td>\n",
       "      <td>1.0</td>\n",
       "      <td>0.0</td>\n",
       "      <td>1.0</td>\n",
       "      <td>1.0</td>\n",
       "      <td>1.0</td>\n",
       "      <td>0.0</td>\n",
       "      <td>0.0</td>\n",
       "      <td>0.0</td>\n",
       "      <td>1.0</td>\n",
       "    </tr>\n",
       "    <tr>\n",
       "      <th>4</th>\n",
       "      <td>0.0</td>\n",
       "      <td>0.0</td>\n",
       "      <td>1.0</td>\n",
       "      <td>29.0</td>\n",
       "      <td>1.0</td>\n",
       "      <td>0.0</td>\n",
       "      <td>1.0</td>\n",
       "      <td>1.0</td>\n",
       "      <td>1.0</td>\n",
       "      <td>0.0</td>\n",
       "      <td>0.0</td>\n",
       "      <td>0.0</td>\n",
       "      <td>0.0</td>\n",
       "    </tr>\n",
       "    <tr>\n",
       "      <th>...</th>\n",
       "      <td>...</td>\n",
       "      <td>...</td>\n",
       "      <td>...</td>\n",
       "      <td>...</td>\n",
       "      <td>...</td>\n",
       "      <td>...</td>\n",
       "      <td>...</td>\n",
       "      <td>...</td>\n",
       "      <td>...</td>\n",
       "      <td>...</td>\n",
       "      <td>...</td>\n",
       "      <td>...</td>\n",
       "      <td>...</td>\n",
       "    </tr>\n",
       "    <tr>\n",
       "      <th>70687</th>\n",
       "      <td>0.0</td>\n",
       "      <td>1.0</td>\n",
       "      <td>1.0</td>\n",
       "      <td>37.0</td>\n",
       "      <td>0.0</td>\n",
       "      <td>0.0</td>\n",
       "      <td>0.0</td>\n",
       "      <td>0.0</td>\n",
       "      <td>1.0</td>\n",
       "      <td>0.0</td>\n",
       "      <td>0.0</td>\n",
       "      <td>0.0</td>\n",
       "      <td>0.0</td>\n",
       "    </tr>\n",
       "    <tr>\n",
       "      <th>70688</th>\n",
       "      <td>1.0</td>\n",
       "      <td>1.0</td>\n",
       "      <td>1.0</td>\n",
       "      <td>29.0</td>\n",
       "      <td>1.0</td>\n",
       "      <td>1.0</td>\n",
       "      <td>0.0</td>\n",
       "      <td>1.0</td>\n",
       "      <td>1.0</td>\n",
       "      <td>0.0</td>\n",
       "      <td>1.0</td>\n",
       "      <td>0.0</td>\n",
       "      <td>0.0</td>\n",
       "    </tr>\n",
       "    <tr>\n",
       "      <th>70689</th>\n",
       "      <td>0.0</td>\n",
       "      <td>1.0</td>\n",
       "      <td>1.0</td>\n",
       "      <td>25.0</td>\n",
       "      <td>0.0</td>\n",
       "      <td>1.0</td>\n",
       "      <td>0.0</td>\n",
       "      <td>1.0</td>\n",
       "      <td>0.0</td>\n",
       "      <td>0.0</td>\n",
       "      <td>1.0</td>\n",
       "      <td>0.0</td>\n",
       "      <td>1.0</td>\n",
       "    </tr>\n",
       "    <tr>\n",
       "      <th>70690</th>\n",
       "      <td>0.0</td>\n",
       "      <td>1.0</td>\n",
       "      <td>1.0</td>\n",
       "      <td>18.0</td>\n",
       "      <td>0.0</td>\n",
       "      <td>0.0</td>\n",
       "      <td>0.0</td>\n",
       "      <td>0.0</td>\n",
       "      <td>0.0</td>\n",
       "      <td>0.0</td>\n",
       "      <td>1.0</td>\n",
       "      <td>0.0</td>\n",
       "      <td>1.0</td>\n",
       "    </tr>\n",
       "    <tr>\n",
       "      <th>70691</th>\n",
       "      <td>0.0</td>\n",
       "      <td>1.0</td>\n",
       "      <td>1.0</td>\n",
       "      <td>25.0</td>\n",
       "      <td>0.0</td>\n",
       "      <td>1.0</td>\n",
       "      <td>1.0</td>\n",
       "      <td>1.0</td>\n",
       "      <td>0.0</td>\n",
       "      <td>0.0</td>\n",
       "      <td>0.0</td>\n",
       "      <td>0.0</td>\n",
       "      <td>1.0</td>\n",
       "    </tr>\n",
       "  </tbody>\n",
       "</table>\n",
       "<p>70692 rows × 13 columns</p>\n",
       "</div>"
      ],
      "text/plain": [
       "       Sex  HighChol  CholCheck   BMI  Smoker  HeartDiseaseorAttack  \\\n",
       "0      1.0       0.0        1.0  26.0     0.0                   0.0   \n",
       "1      1.0       1.0        1.0  26.0     1.0                   0.0   \n",
       "2      1.0       0.0        1.0  26.0     0.0                   0.0   \n",
       "3      1.0       1.0        1.0  28.0     1.0                   0.0   \n",
       "4      0.0       0.0        1.0  29.0     1.0                   0.0   \n",
       "...    ...       ...        ...   ...     ...                   ...   \n",
       "70687  0.0       1.0        1.0  37.0     0.0                   0.0   \n",
       "70688  1.0       1.0        1.0  29.0     1.0                   1.0   \n",
       "70689  0.0       1.0        1.0  25.0     0.0                   1.0   \n",
       "70690  0.0       1.0        1.0  18.0     0.0                   0.0   \n",
       "70691  0.0       1.0        1.0  25.0     0.0                   1.0   \n",
       "\n",
       "       PhysActivity  Fruits  Veggies  HvyAlcoholConsump  DiffWalk  Stroke  \\\n",
       "0               1.0     0.0      1.0                0.0       0.0     0.0   \n",
       "1               0.0     1.0      0.0                0.0       0.0     1.0   \n",
       "2               1.0     1.0      1.0                0.0       0.0     0.0   \n",
       "3               1.0     1.0      1.0                0.0       0.0     0.0   \n",
       "4               1.0     1.0      1.0                0.0       0.0     0.0   \n",
       "...             ...     ...      ...                ...       ...     ...   \n",
       "70687           0.0     0.0      1.0                0.0       0.0     0.0   \n",
       "70688           0.0     1.0      1.0                0.0       1.0     0.0   \n",
       "70689           0.0     1.0      0.0                0.0       1.0     0.0   \n",
       "70690           0.0     0.0      0.0                0.0       1.0     0.0   \n",
       "70691           1.0     1.0      0.0                0.0       0.0     0.0   \n",
       "\n",
       "       HighBP  \n",
       "0         1.0  \n",
       "1         1.0  \n",
       "2         0.0  \n",
       "3         1.0  \n",
       "4         0.0  \n",
       "...       ...  \n",
       "70687     0.0  \n",
       "70688     0.0  \n",
       "70689     1.0  \n",
       "70690     1.0  \n",
       "70691     1.0  \n",
       "\n",
       "[70692 rows x 13 columns]"
      ]
     },
     "execution_count": 12,
     "metadata": {},
     "output_type": "execute_result"
    }
   ],
   "source": [
    "x_data"
   ]
  },
  {
   "cell_type": "code",
   "execution_count": 13,
   "id": "908dfb15",
   "metadata": {},
   "outputs": [],
   "source": [
    "import pandas as pd\n",
    "import matplotlib.pyplot as plt"
   ]
  },
  {
   "cell_type": "code",
   "execution_count": 14,
   "id": "9f2c9a76",
   "metadata": {},
   "outputs": [],
   "source": [
    "df = pd.concat([x_train, y_train], axis=1).reset_index(drop=True)"
   ]
  },
  {
   "cell_type": "code",
   "execution_count": 15,
   "id": "762ddcfa",
   "metadata": {
    "scrolled": false
   },
   "outputs": [
    {
     "data": {
      "image/png": "[encoded data removed]",
      "text/plain": [
       "<Figure size 1080x360 with 2 Axes>"
      ]
     },
     "metadata": {
      "needs_background": "light"
     },
     "output_type": "display_data"
    }
   ],
   "source": [
    "# 그래프 객체 생성\n",
    "fig = plt.figure(figsize=(15,5))\n",
    "ax1 = fig.add_subplot(1,2,1)\n",
    "ax2 = fig.add_subplot(1,2,2)\n",
    "\n",
    "# x축, y축에 변수 할당 후, hue 옵션 추가\n",
    "sns.barplot(x='Veggies', y='Diabetes', hue='Sex', data=df, ax=ax1)\n",
    "\n",
    "# x축, y축에 변수 할당 후, hue 옵션 추가\n",
    "sns.barplot(x='Fruits', y='Diabetes', hue='Sex', data=df, ax=ax2)\n",
    "\n",
    "# 차트 제목 표시\n",
    "ax1.set_title('Diabetes - Veggies')\n",
    "ax2.set_title('Diabetes - Fruits')\n",
    "\n",
    "plt.show()"
   ]
  },
  {
   "cell_type": "code",
   "execution_count": 16,
   "id": "ff0b2c22",
   "metadata": {},
   "outputs": [
    {
     "data": {
      "image/png": "[encoded data removed]",
      "text/plain": [
       "<Figure size 1080x360 with 2 Axes>"
      ]
     },
     "metadata": {
      "needs_background": "light"
     },
     "output_type": "display_data"
    }
   ],
   "source": [
    "# 그래프 객체 생성\n",
    "fig = plt.figure(figsize=(15,5))\n",
    "ax1 = fig.add_subplot(1,2,1)\n",
    "ax2 = fig.add_subplot(1,2,2)\n",
    "\n",
    "\n",
    "# x축, y축에 변수 할당 후, hue 옵션 추가\n",
    "sns.barplot(x='Smoker', y='Diabetes', hue='Sex', data=df, ax=ax1)\n",
    "\n",
    "# x축, y축에 변수 할당 후, hue 옵션 추가\n",
    "sns.barplot(x='PhysActivity', y='Diabetes', hue='Sex', data=df, ax=ax2)\n",
    "\n",
    "# 차트 제목 표시\n",
    "ax1.set_title('Diabetes - BMI')\n",
    "ax2.set_title('Diabetes - PhysActivity')\n",
    "\n",
    "\n",
    "plt.show()"
   ]
  },
  {
   "cell_type": "code",
   "execution_count": 17,
   "id": "3df7cdaa",
   "metadata": {
    "scrolled": false
   },
   "outputs": [
    {
     "data": {
      "image/png": "[encoded data removed]",
      "text/plain": [
       "<Figure size 1080x360 with 2 Axes>"
      ]
     },
     "metadata": {
      "needs_background": "light"
     },
     "output_type": "display_data"
    }
   ],
   "source": [
    "# 그래프 객체 생성\n",
    "fig = plt.figure(figsize=(15,5))\n",
    "ax1 = fig.add_subplot(1,2,1)\n",
    "ax2 = fig.add_subplot(1,2,2)\n",
    "\n",
    "# x축, y축에 변수 할당 후, hue 옵션 추가\n",
    "sns.barplot(x='HvyAlcoholConsump', y='Diabetes', hue='Sex', data=df, ax=ax1)\n",
    "sns.barplot(x='HighChol', y='Diabetes', hue='Sex', data=df, ax=ax2)\n",
    "\n",
    "# 차트 제목 표시\n",
    "ax1.set_title('Diabetes - HvyAlcoholConsump')\n",
    "ax2.set_title('Diabetes - HighChol')\n",
    "\n",
    "plt.show()"
   ]
  },
  {
   "cell_type": "code",
   "execution_count": 18,
   "id": "4d95f736",
   "metadata": {},
   "outputs": [
    {
     "data": {
      "image/png": "[encoded data removed]",
      "text/plain": [
       "<Figure size 1080x360 with 2 Axes>"
      ]
     },
     "metadata": {
      "needs_background": "light"
     },
     "output_type": "display_data"
    }
   ],
   "source": [
    "# 그래프 객체 생성\n",
    "fig = plt.figure(figsize=(15,5))\n",
    "ax1 = fig.add_subplot(1,2,1)\n",
    "ax2 = fig.add_subplot(1,2,2)\n",
    "\n",
    "# x축, y축에 변수 할당 후, hue 옵션 추가\n",
    "sns.barplot(x='CholCheck', y='Diabetes', hue='Sex', data=df, ax=ax1)\n",
    "sns.barplot(x='PhysActivity', y='Diabetes', hue='Sex', data=df, ax=ax2)\n",
    "\n",
    "# 차트 제목 표시\n",
    "ax1.set_title('Diabetes - CholCheck')\n",
    "ax2.set_title('Diabetes - PhysActivity')\n",
    "\n",
    "plt.show()"
   ]
  },
  {
   "cell_type": "code",
   "execution_count": 19,
   "id": "14ae2836",
   "metadata": {},
   "outputs": [
    {
     "data": {
      "image/png": "[encoded data removed]",
      "text/plain": [
       "<Figure size 1080x360 with 1 Axes>"
      ]
     },
     "metadata": {
      "needs_background": "light"
     },
     "output_type": "display_data"
    }
   ],
   "source": [
    "# 그래프 객체 생성\n",
    "fig = plt.figure(figsize=(15,5))\n",
    "ax1 = fig.add_subplot(1,1,1)\n",
    "\n",
    "# x축, y축에 변수 할당 후, hue 옵션 추가\n",
    "sns.barplot(x='HighBP', y='Diabetes', hue='Sex', data=df, ax=ax1)\n",
    "\n",
    "# 차트 제목 표시\n",
    "ax1.set_title('Diabetes - HighBP')\n",
    "\n",
    "plt.show()"
   ]
  },
  {
   "cell_type": "code",
   "execution_count": 20,
   "id": "52caade5",
   "metadata": {},
   "outputs": [
    {
     "data": {
      "text/plain": [
       "<AxesSubplot:xlabel='Diabetes', ylabel='BMI'>"
      ]
     },
     "execution_count": 20,
     "metadata": {},
     "output_type": "execute_result"
    },
    {
     "data": {
      "image/png": "[encoded data removed]",
      "text/plain": [
       "<Figure size 1080x360 with 2 Axes>"
      ]
     },
     "metadata": {},
     "output_type": "display_data"
    }
   ],
   "source": [
    "# set style theme\n",
    "sns.set_style('whitegrid')\n",
    "\n",
    "# 그래프 객체 생성\n",
    "fig = plt.figure(figsize=(15,5))\n",
    "ax1 = fig.add_subplot(2,2,1)\n",
    "ax2 = fig.add_subplot(2,2,2)\n",
    "\n",
    "# 박스 플롯 - 기본값\n",
    "sns.boxplot(x='Diabetes', y='BMI', data=df, ax=ax1)\n",
    "\n",
    "# 박스플롯 - hue 변수 추가\n",
    "sns.boxplot(x='Diabetes', y='BMI', hue='Sex', data=df, ax=ax2)\n",
    "\n",
    "\n",
    "# BMI와 성별 이상치가 너무 많다."
   ]
  },
  {
   "cell_type": "code",
   "execution_count": 21,
   "id": "9ca4d37b",
   "metadata": {},
   "outputs": [
    {
     "data": {
      "text/plain": [
       "<AxesSubplot:xlabel='Diabetes', ylabel='BMI'>"
      ]
     },
     "execution_count": 21,
     "metadata": {},
     "output_type": "execute_result"
    },
    {
     "data": {
      "image/png": "[encoded data removed]",
      "text/plain": [
       "<Figure size 1080x360 with 2 Axes>"
      ]
     },
     "metadata": {},
     "output_type": "display_data"
    }
   ],
   "source": [
    "# set style theme\n",
    "sns.set_style('whitegrid')\n",
    "\n",
    "# 그래프 객체 생성\n",
    "fig = plt.figure(figsize=(15,5))\n",
    "ax1 = fig.add_subplot(2,2,1)\n",
    "ax2 = fig.add_subplot(2,2,2)\n",
    "\n",
    "# 박스 플롯 - 기본값\n",
    "sns.boxplot(x='Diabetes', y='BMI', data=df, ax=ax1)\n",
    "\n",
    "# 박스플롯 - hue 변수 추가\n",
    "sns.boxplot(x='Diabetes', y='BMI', hue='Smoker', data=df, ax=ax2)\n",
    "\n",
    "# BMI와 담배 이상치가 너무 많다."
   ]
  },
  {
   "cell_type": "code",
   "execution_count": 22,
   "id": "b396acb0",
   "metadata": {},
   "outputs": [
    {
     "data": {
      "text/plain": [
       "<AxesSubplot:xlabel='Diabetes', ylabel='BMI'>"
      ]
     },
     "execution_count": 22,
     "metadata": {},
     "output_type": "execute_result"
    },
    {
     "data": {
      "image/png": "[encoded data removed]",
      "text/plain": [
       "<Figure size 1080x360 with 2 Axes>"
      ]
     },
     "metadata": {},
     "output_type": "display_data"
    }
   ],
   "source": [
    "# set style theme\n",
    "sns.set_style('whitegrid')\n",
    "\n",
    "# 그래프 객체 생성\n",
    "fig = plt.figure(figsize=(15,5))\n",
    "ax1 = fig.add_subplot(2,2,1)\n",
    "ax2 = fig.add_subplot(2,2,2)\n",
    "\n",
    "# 박스 플롯 - 기본값\n",
    "sns.boxplot(x='Diabetes', y='BMI', data=df, ax=ax1)\n",
    "\n",
    "# 박스플롯 - hue 변수 추가\n",
    "sns.boxplot(x='Diabetes', y='BMI', hue='Fruits', data=df, ax=ax2)\n",
    "\n",
    "\n",
    "# BMI와 과일 이상치가 너무 많다."
   ]
  },
  {
   "cell_type": "code",
   "execution_count": 23,
   "id": "9cbdb7a9",
   "metadata": {},
   "outputs": [
    {
     "data": {
      "text/plain": [
       "<AxesSubplot:xlabel='Diabetes', ylabel='BMI'>"
      ]
     },
     "execution_count": 23,
     "metadata": {},
     "output_type": "execute_result"
    },
    {
     "data": {
      "image/png": "[encoded data removed]",
      "text/plain": [
       "<Figure size 1080x360 with 2 Axes>"
      ]
     },
     "metadata": {},
     "output_type": "display_data"
    }
   ],
   "source": [
    "# set style theme\n",
    "sns.set_style('whitegrid')\n",
    "\n",
    "# 그래프 객체 생성\n",
    "fig = plt.figure(figsize=(15,5))\n",
    "ax1 = fig.add_subplot(2,2,1)\n",
    "ax2 = fig.add_subplot(2,2,2)\n",
    "\n",
    "# 박스 플롯 - 기본값\n",
    "sns.boxplot(x='Diabetes', y='BMI', data=df, ax=ax1)\n",
    "\n",
    "# 박스플롯 - hue 변수 추가\n",
    "sns.boxplot(x='Diabetes', y='BMI', hue='Veggies', data=df, ax=ax2)\n",
    "\n",
    "# BMI와 채소 이상치가 너무 많다."
   ]
  },
  {
   "cell_type": "code",
   "execution_count": 24,
   "id": "56dfbc75",
   "metadata": {},
   "outputs": [
    {
     "data": {
      "text/plain": [
       "<AxesSubplot:xlabel='Diabetes', ylabel='BMI'>"
      ]
     },
     "execution_count": 24,
     "metadata": {},
     "output_type": "execute_result"
    },
    {
     "data": {
      "image/png": "[encoded data removed]",
      "text/plain": [
       "<Figure size 1080x360 with 2 Axes>"
      ]
     },
     "metadata": {},
     "output_type": "display_data"
    }
   ],
   "source": [
    "# set style theme\n",
    "sns.set_style('whitegrid')\n",
    "\n",
    "# 그래프 객체 생성\n",
    "fig = plt.figure(figsize=(15,5))\n",
    "ax1 = fig.add_subplot(2,2,1)\n",
    "ax2 = fig.add_subplot(2,2,2)\n",
    "\n",
    "# 박스 플롯 - 기본값\n",
    "sns.boxplot(x='Diabetes', y='BMI', data=df, ax=ax1)\n",
    "\n",
    "# 박스플롯 - hue 변수 추가\n",
    "sns.boxplot(x='Diabetes', y='BMI', hue='HvyAlcoholConsump', data=df, ax=ax2)\n",
    "\n",
    "# 설명: BMI 음주 이상치가 너무 많다."
   ]
  },
  {
   "cell_type": "code",
   "execution_count": 25,
   "id": "5a040e15",
   "metadata": {
    "scrolled": false
   },
   "outputs": [
    {
     "data": {
      "image/png": "[encoded data removed]",
      "text/plain": [
       "<Figure size 1080x360 with 3 Axes>"
      ]
     },
     "metadata": {},
     "output_type": "display_data"
    }
   ],
   "source": [
    "# 그래프 객체 생성\n",
    "fig = plt.figure(figsize=(15,5))\n",
    "ax1 = fig.add_subplot(1,3,1)\n",
    "ax2 = fig.add_subplot(1,3,2)\n",
    "ax3 = fig.add_subplot(1,3,3)\n",
    "\n",
    "# 기본값\n",
    "sns.distplot(df['BMI'], ax=ax1)\n",
    "\n",
    "# hist = False\n",
    "sns.distplot(df['BMI'], hist =False, ax=ax2)\n",
    "\n",
    "# kde = False\n",
    "sns.distplot(df['BMI'], hist =False, ax=ax3)\n",
    "\n",
    "# 차트 제목 표시\n",
    "ax1.set_title('BMI - hist/ked')\n",
    "ax2.set_title('BMI - ked')\n",
    "ax3.set_title('BMI - hist')\n",
    "\n",
    "plt.show()"
   ]
  },
  {
   "cell_type": "code",
   "execution_count": 26,
   "id": "4ff047a0",
   "metadata": {},
   "outputs": [
    {
     "data": {
      "image/png": "[encoded data removed]",
      "text/plain": [
       "<Figure size 1080x360 with 3 Axes>"
      ]
     },
     "metadata": {},
     "output_type": "display_data"
    }
   ],
   "source": [
    "# 그래프 객체 생성\n",
    "fig = plt.figure(figsize=(15,5))\n",
    "ax1 = fig.add_subplot(1,3,1)\n",
    "ax2 = fig.add_subplot(1,3,2)\n",
    "ax3 = fig.add_subplot(1,3,3)\n",
    "\n",
    "# 기본값\n",
    "sns.distplot(df['BMI'], ax=ax1)\n",
    "\n",
    "# hist = False\n",
    "sns.distplot(df['BMI'], hist =False, ax=ax2)\n",
    "\n",
    "# kde = False\n",
    "sns.distplot(df['BMI'], hist =False, ax=ax3)\n",
    "\n",
    "# 차트 제목 표시\n",
    "ax1.set_title('Diabetes BMI - hist/ked')\n",
    "ax2.set_title('Diabetes BMI - ked')\n",
    "ax3.set_title('Diabetes BMI - hist')\n",
    "\n",
    "plt.show()"
   ]
  },
  {
   "cell_type": "code",
   "execution_count": 27,
   "id": "c45ffe13",
   "metadata": {},
   "outputs": [],
   "source": [
    "table = df.pivot_table(index=['Diabetes'], columns=['Sex'], aggfunc='size')"
   ]
  },
  {
   "cell_type": "code",
   "execution_count": 28,
   "id": "fdf84bef",
   "metadata": {
    "scrolled": true
   },
   "outputs": [
    {
     "data": {
      "text/plain": [
       "<AxesSubplot:xlabel='Sex', ylabel='Diabetes'>"
      ]
     },
     "execution_count": 28,
     "metadata": {},
     "output_type": "execute_result"
    },
    {
     "data": {
      "image/png": "[encoded data removed]",
      "text/plain": [
       "<Figure size 432x288 with 1 Axes>"
      ]
     },
     "metadata": {},
     "output_type": "display_data"
    }
   ],
   "source": [
    "# 히트맵 그리기\n",
    "sns.heatmap(table, \n",
    "           annot=True, fmt='d',\n",
    "           cmap='YlGnBu',\n",
    "           linewidth=0.5,\n",
    "           cbar=False)\n",
    "\n",
    "# 설명: 여성이 남성보다 당뇨병에 걸릴 확률이 높다."
   ]
  },
  {
   "cell_type": "code",
   "execution_count": 29,
   "id": "90f38e25",
   "metadata": {},
   "outputs": [],
   "source": [
    "table = df.pivot_table(index=['Diabetes'], columns=['HighChol'], aggfunc='size')"
   ]
  },
  {
   "cell_type": "code",
   "execution_count": 30,
   "id": "bd435de0",
   "metadata": {},
   "outputs": [
    {
     "data": {
      "text/plain": [
       "<AxesSubplot:xlabel='HighChol', ylabel='Diabetes'>"
      ]
     },
     "execution_count": 30,
     "metadata": {},
     "output_type": "execute_result"
    },
    {
     "data": {
      "image/png": "[encoded data removed]",
      "text/plain": [
       "<Figure size 432x288 with 1 Axes>"
      ]
     },
     "metadata": {},
     "output_type": "display_data"
    }
   ],
   "source": [
    "# 히트맵 그리기\n",
    "sns.heatmap(table, \n",
    "           annot=True, fmt='d',\n",
    "           cmap='YlGnBu',\n",
    "           linewidth=0.5,\n",
    "           cbar=False)\n",
    "\n",
    "# 설명: 콜레스테롤 수치가 높은 사람이 당뇨병에 걸릴 확률이 높다."
   ]
  },
  {
   "cell_type": "code",
   "execution_count": 31,
   "id": "5d774381",
   "metadata": {},
   "outputs": [],
   "source": [
    "table = df.pivot_table(index=['Diabetes'], columns=['CholCheck'], aggfunc='size')"
   ]
  },
  {
   "cell_type": "code",
   "execution_count": 32,
   "id": "9ac07c3c",
   "metadata": {
    "scrolled": false
   },
   "outputs": [
    {
     "data": {
      "text/plain": [
       "<AxesSubplot:xlabel='CholCheck', ylabel='Diabetes'>"
      ]
     },
     "execution_count": 32,
     "metadata": {},
     "output_type": "execute_result"
    },
    {
     "data": {
      "image/png": "[encoded data removed]",
      "text/plain": [
       "<Figure size 432x288 with 1 Axes>"
      ]
     },
     "metadata": {},
     "output_type": "display_data"
    }
   ],
   "source": [
    "# 히트맵 그리기\n",
    "sns.heatmap(table, \n",
    "           annot=True, fmt='d',\n",
    "           cmap='YlGnBu',\n",
    "           linewidth=0.5,\n",
    "           cbar=False)\n",
    "\n",
    "# 설명: 5년동안 콜레스테롤 체크한 사람이 당뇨병에 걸릴 높다."
   ]
  },
  {
   "cell_type": "code",
   "execution_count": 33,
   "id": "69b4ab42",
   "metadata": {},
   "outputs": [],
   "source": [
    "table = df.pivot_table(index=['Diabetes'], columns=['Smoker'], aggfunc='size')"
   ]
  },
  {
   "cell_type": "code",
   "execution_count": 34,
   "id": "977b0f4b",
   "metadata": {},
   "outputs": [
    {
     "data": {
      "text/plain": [
       "<AxesSubplot:xlabel='Smoker', ylabel='Diabetes'>"
      ]
     },
     "execution_count": 34,
     "metadata": {},
     "output_type": "execute_result"
    },
    {
     "data": {
      "image/png": "[encoded data removed]",
      "text/plain": [
       "<Figure size 432x288 with 1 Axes>"
      ]
     },
     "metadata": {},
     "output_type": "display_data"
    }
   ],
   "source": [
    "# 히트맵 그리기\n",
    "sns.heatmap(table, \n",
    "           annot=True, fmt='d',\n",
    "           cmap='YlGnBu',\n",
    "           linewidth=0.5,\n",
    "           cbar=False)\n",
    "\n",
    "# 설명: 담배핀 사람이 당뇨병에 걸릴 확률이 높다."
   ]
  },
  {
   "cell_type": "code",
   "execution_count": 35,
   "id": "2daf1b15",
   "metadata": {},
   "outputs": [],
   "source": [
    "table = df.pivot_table(index=['Diabetes'], columns=['Fruits'], aggfunc='size')"
   ]
  },
  {
   "cell_type": "code",
   "execution_count": 36,
   "id": "0d64df60",
   "metadata": {},
   "outputs": [
    {
     "data": {
      "text/plain": [
       "<AxesSubplot:xlabel='Fruits', ylabel='Diabetes'>"
      ]
     },
     "execution_count": 36,
     "metadata": {},
     "output_type": "execute_result"
    },
    {
     "data": {
      "image/png": "[encoded data removed]",
      "text/plain": [
       "<Figure size 432x288 with 1 Axes>"
      ]
     },
     "metadata": {},
     "output_type": "display_data"
    }
   ],
   "source": [
    "# 히트맵 그리기\n",
    "sns.heatmap(table, \n",
    "           annot=True, fmt='d',\n",
    "           cmap='YlGnBu',\n",
    "           linewidth=0.5,\n",
    "           cbar=False)\n",
    "\n",
    "# 과일을 먹은 사람이 당뇨병에 걸릴 확률이 높다."
   ]
  },
  {
   "cell_type": "code",
   "execution_count": 37,
   "id": "d023012f",
   "metadata": {},
   "outputs": [],
   "source": [
    "table = df.pivot_table(index=['Diabetes'], columns=['Veggies'], aggfunc='size')"
   ]
  },
  {
   "cell_type": "code",
   "execution_count": 38,
   "id": "d60cca40",
   "metadata": {},
   "outputs": [
    {
     "data": {
      "text/plain": [
       "<AxesSubplot:xlabel='Veggies', ylabel='Diabetes'>"
      ]
     },
     "execution_count": 38,
     "metadata": {},
     "output_type": "execute_result"
    },
    {
     "data": {
      "image/png": "[encoded data removed]",
      "text/plain": [
       "<Figure size 432x288 with 1 Axes>"
      ]
     },
     "metadata": {},
     "output_type": "display_data"
    }
   ],
   "source": [
    "# 히트맵 그리기\n",
    "sns.heatmap(table, \n",
    "           annot=True, fmt='d',\n",
    "           cmap='YlGnBu',\n",
    "           linewidth=0.5,\n",
    "           cbar=False)\n",
    "\n",
    "# 채소를 많이 먹은 사람이 당뇨병에 걸릴확률이 낮다."
   ]
  },
  {
   "cell_type": "code",
   "execution_count": 39,
   "id": "9dc02eec",
   "metadata": {},
   "outputs": [],
   "source": [
    "table = df.pivot_table(index=['Diabetes'], columns=['HvyAlcoholConsump'], aggfunc='size')"
   ]
  },
  {
   "cell_type": "code",
   "execution_count": 40,
   "id": "2ed2113d",
   "metadata": {},
   "outputs": [
    {
     "data": {
      "text/plain": [
       "<AxesSubplot:xlabel='HvyAlcoholConsump', ylabel='Diabetes'>"
      ]
     },
     "execution_count": 40,
     "metadata": {},
     "output_type": "execute_result"
    },
    {
     "data": {
      "image/png": "[encoded data removed]",
      "text/plain": [
       "<Figure size 432x288 with 1 Axes>"
      ]
     },
     "metadata": {},
     "output_type": "display_data"
    }
   ],
   "source": [
    "# 히트맵 그리기\n",
    "sns.heatmap(table, \n",
    "           annot=True, fmt='d',\n",
    "           cmap='YlGnBu',\n",
    "           linewidth=0.5,\n",
    "           cbar=False)\n",
    "\n",
    "# 설명: 음주한 사람보다 음주를 안 한 사람이 오히려 당뇨병에 걸릴 확률이 높게 나왔다."
   ]
  },
  {
   "cell_type": "code",
   "execution_count": 41,
   "id": "eb38f46e",
   "metadata": {},
   "outputs": [],
   "source": [
    "table = df.pivot_table(index=['Diabetes'], columns=['PhysActivity'], aggfunc='size')"
   ]
  },
  {
   "cell_type": "code",
   "execution_count": 42,
   "id": "244dcf15",
   "metadata": {},
   "outputs": [
    {
     "data": {
      "text/plain": [
       "<AxesSubplot:xlabel='PhysActivity', ylabel='Diabetes'>"
      ]
     },
     "execution_count": 42,
     "metadata": {},
     "output_type": "execute_result"
    },
    {
     "data": {
      "image/png": "[encoded data removed]",
      "text/plain": [
       "<Figure size 432x288 with 1 Axes>"
      ]
     },
     "metadata": {},
     "output_type": "display_data"
    }
   ],
   "source": [
    "# 히트맵 그리기\n",
    "sns.heatmap(table, \n",
    "           annot=True, fmt='d',\n",
    "           cmap='YlGnBu',\n",
    "           linewidth=0.5,\n",
    "           cbar=False)\n",
    "\n",
    "# 설명: 30일내에 운동한 사람보다 운동 안 한 사람이 당뇨병에 걸릴 확률이 높다."
   ]
  },
  {
   "cell_type": "code",
   "execution_count": 43,
   "id": "0a84ba35",
   "metadata": {},
   "outputs": [],
   "source": [
    "table = df.pivot_table(index=['Diabetes'], columns=['HighBP'], aggfunc='size')"
   ]
  },
  {
   "cell_type": "code",
   "execution_count": 44,
   "id": "107f29ae",
   "metadata": {},
   "outputs": [
    {
     "data": {
      "text/plain": [
       "<AxesSubplot:xlabel='HighBP', ylabel='Diabetes'>"
      ]
     },
     "execution_count": 44,
     "metadata": {},
     "output_type": "execute_result"
    },
    {
     "data": {
      "image/png": "[encoded data removed]",
      "text/plain": [
       "<Figure size 432x288 with 1 Axes>"
      ]
     },
     "metadata": {},
     "output_type": "display_data"
    }
   ],
   "source": [
    "# 히트맵 그리기\n",
    "sns.heatmap(table, \n",
    "           annot=True, fmt='d',\n",
    "           cmap='YlGnBu',\n",
    "           linewidth=0.5,\n",
    "           cbar=False)\n",
    "\n",
    "# 혈앞이 높은 사람이 당뇨병에 걸릴 확률이 높다."
   ]
  },
  {
   "cell_type": "code",
   "execution_count": 45,
   "id": "8fe5b348",
   "metadata": {},
   "outputs": [],
   "source": [
    "table = df.pivot_table(index=['Diabetes'], columns=['HeartDiseaseorAttack'], aggfunc='size')"
   ]
  },
  {
   "cell_type": "code",
   "execution_count": 46,
   "id": "bd64d686",
   "metadata": {},
   "outputs": [
    {
     "data": {
      "text/plain": [
       "<AxesSubplot:xlabel='HeartDiseaseorAttack', ylabel='Diabetes'>"
      ]
     },
     "execution_count": 46,
     "metadata": {},
     "output_type": "execute_result"
    },
    {
     "data": {
      "image/png": "[encoded data removed]",
      "text/plain": [
       "<Figure size 432x288 with 1 Axes>"
      ]
     },
     "metadata": {},
     "output_type": "display_data"
    }
   ],
   "source": [
    "# 히트맵 그리기\n",
    "sns.heatmap(table, \n",
    "           annot=True, fmt='d',\n",
    "           cmap='YlGnBu',\n",
    "           linewidth=0.5,\n",
    "           cbar=False)\n"
   ]
  },
  {
   "cell_type": "code",
   "execution_count": 47,
   "id": "cfb0455a",
   "metadata": {},
   "outputs": [],
   "source": [
    "# 전처리"
   ]
  },
  {
   "cell_type": "code",
   "execution_count": 48,
   "id": "bf8f289b",
   "metadata": {
    "scrolled": true
   },
   "outputs": [
    {
     "name": "stdout",
     "output_type": "stream",
     "text": [
      "<class 'pandas.core.frame.DataFrame'>\n",
      "RangeIndex: 70692 entries, 0 to 70691\n",
      "Data columns (total 13 columns):\n",
      " #   Column                Non-Null Count  Dtype  \n",
      "---  ------                --------------  -----  \n",
      " 0   Sex                   70692 non-null  float64\n",
      " 1   HighChol              70692 non-null  float64\n",
      " 2   CholCheck             70692 non-null  float64\n",
      " 3   BMI                   70692 non-null  float64\n",
      " 4   Smoker                70692 non-null  float64\n",
      " 5   HeartDiseaseorAttack  70692 non-null  float64\n",
      " 6   PhysActivity          70692 non-null  float64\n",
      " 7   Fruits                70692 non-null  float64\n",
      " 8   Veggies               70692 non-null  float64\n",
      " 9   HvyAlcoholConsump     70692 non-null  float64\n",
      " 10  DiffWalk              70692 non-null  float64\n",
      " 11  Stroke                70692 non-null  float64\n",
      " 12  HighBP                70692 non-null  float64\n",
      "dtypes: float64(13)\n",
      "memory usage: 7.0 MB\n"
     ]
    }
   ],
   "source": [
    "x_data.info()"
   ]
  },
  {
   "cell_type": "code",
   "execution_count": 49,
   "id": "191a040d",
   "metadata": {},
   "outputs": [
    {
     "data": {
      "text/plain": [
       "0.0    38386\n",
       "1.0    32306\n",
       "Name: Sex, dtype: int64"
      ]
     },
     "execution_count": 49,
     "metadata": {},
     "output_type": "execute_result"
    }
   ],
   "source": [
    "x_data.Sex.value_counts()"
   ]
  },
  {
   "cell_type": "code",
   "execution_count": 50,
   "id": "59f58371",
   "metadata": {},
   "outputs": [
    {
     "data": {
      "text/plain": [
       "1.0    37163\n",
       "0.0    33529\n",
       "Name: HighChol, dtype: int64"
      ]
     },
     "execution_count": 50,
     "metadata": {},
     "output_type": "execute_result"
    }
   ],
   "source": [
    "x_data.HighChol.value_counts()"
   ]
  },
  {
   "cell_type": "code",
   "execution_count": 51,
   "id": "1162c2ef",
   "metadata": {},
   "outputs": [
    {
     "data": {
      "text/plain": [
       "1.0    68943\n",
       "0.0     1749\n",
       "Name: CholCheck, dtype: int64"
      ]
     },
     "execution_count": 51,
     "metadata": {},
     "output_type": "execute_result"
    }
   ],
   "source": [
    "x_data.CholCheck.value_counts()"
   ]
  },
  {
   "cell_type": "code",
   "execution_count": 52,
   "id": "fcde241c",
   "metadata": {},
   "outputs": [
    {
     "data": {
      "text/plain": [
       "27.0    6327\n",
       "26.0    4975\n",
       "28.0    4583\n",
       "24.0    4392\n",
       "30.0    4344\n",
       "        ... \n",
       "12.0       1\n",
       "74.0       1\n",
       "78.0       1\n",
       "85.0       1\n",
       "80.0       1\n",
       "Name: BMI, Length: 80, dtype: int64"
      ]
     },
     "execution_count": 52,
     "metadata": {},
     "output_type": "execute_result"
    }
   ],
   "source": [
    "x_data.BMI.value_counts()"
   ]
  },
  {
   "cell_type": "code",
   "execution_count": 53,
   "id": "e7d1cfbe",
   "metadata": {},
   "outputs": [
    {
     "data": {
      "text/plain": [
       "0.0    37094\n",
       "1.0    33598\n",
       "Name: Smoker, dtype: int64"
      ]
     },
     "execution_count": 53,
     "metadata": {},
     "output_type": "execute_result"
    }
   ],
   "source": [
    "x_data.Smoker.value_counts()"
   ]
  },
  {
   "cell_type": "code",
   "execution_count": 54,
   "id": "a26a3ab8",
   "metadata": {},
   "outputs": [
    {
     "data": {
      "text/plain": [
       "0.0    60243\n",
       "1.0    10449\n",
       "Name: HeartDiseaseorAttack, dtype: int64"
      ]
     },
     "execution_count": 54,
     "metadata": {},
     "output_type": "execute_result"
    }
   ],
   "source": [
    "x_data.HeartDiseaseorAttack.value_counts()"
   ]
  },
  {
   "cell_type": "code",
   "execution_count": 55,
   "id": "c30350b4",
   "metadata": {},
   "outputs": [
    {
     "data": {
      "text/plain": [
       "1.0    49699\n",
       "0.0    20993\n",
       "Name: PhysActivity, dtype: int64"
      ]
     },
     "execution_count": 55,
     "metadata": {},
     "output_type": "execute_result"
    }
   ],
   "source": [
    "x_data.PhysActivity.value_counts()"
   ]
  },
  {
   "cell_type": "code",
   "execution_count": 56,
   "id": "eb530726",
   "metadata": {},
   "outputs": [
    {
     "data": {
      "text/plain": [
       "1.0    43249\n",
       "0.0    27443\n",
       "Name: Fruits, dtype: int64"
      ]
     },
     "execution_count": 56,
     "metadata": {},
     "output_type": "execute_result"
    }
   ],
   "source": [
    "x_data.Fruits.value_counts()"
   ]
  },
  {
   "cell_type": "code",
   "execution_count": 57,
   "id": "2be9827f",
   "metadata": {},
   "outputs": [
    {
     "data": {
      "text/plain": [
       "1.0    55760\n",
       "0.0    14932\n",
       "Name: Veggies, dtype: int64"
      ]
     },
     "execution_count": 57,
     "metadata": {},
     "output_type": "execute_result"
    }
   ],
   "source": [
    "x_data.Veggies.value_counts()"
   ]
  },
  {
   "cell_type": "code",
   "execution_count": 58,
   "id": "be34d91d",
   "metadata": {},
   "outputs": [
    {
     "data": {
      "text/plain": [
       "0.0    67672\n",
       "1.0     3020\n",
       "Name: HvyAlcoholConsump, dtype: int64"
      ]
     },
     "execution_count": 58,
     "metadata": {},
     "output_type": "execute_result"
    }
   ],
   "source": [
    "x_data.HvyAlcoholConsump.value_counts()"
   ]
  },
  {
   "cell_type": "code",
   "execution_count": 59,
   "id": "2f244f6c",
   "metadata": {},
   "outputs": [
    {
     "data": {
      "text/plain": [
       "0.0    52826\n",
       "1.0    17866\n",
       "Name: DiffWalk, dtype: int64"
      ]
     },
     "execution_count": 59,
     "metadata": {},
     "output_type": "execute_result"
    }
   ],
   "source": [
    "x_data.DiffWalk.value_counts()"
   ]
  },
  {
   "cell_type": "code",
   "execution_count": 60,
   "id": "8edda6b6",
   "metadata": {},
   "outputs": [
    {
     "data": {
      "text/plain": [
       "0.0    66297\n",
       "1.0     4395\n",
       "Name: Stroke, dtype: int64"
      ]
     },
     "execution_count": 60,
     "metadata": {},
     "output_type": "execute_result"
    }
   ],
   "source": [
    "x_data.Stroke.value_counts()"
   ]
  },
  {
   "cell_type": "code",
   "execution_count": 61,
   "id": "c4d57b16",
   "metadata": {},
   "outputs": [
    {
     "data": {
      "text/plain": [
       "1.0    39832\n",
       "0.0    30860\n",
       "Name: HighBP, dtype: int64"
      ]
     },
     "execution_count": 61,
     "metadata": {},
     "output_type": "execute_result"
    }
   ],
   "source": [
    "x_data.HighBP.value_counts()"
   ]
  },
  {
   "cell_type": "code",
   "execution_count": 62,
   "id": "a843ea87",
   "metadata": {},
   "outputs": [],
   "source": [
    "from sklearn import model_selection, linear_model, ensemble, tree, svm, neighbors\n",
    "from sklearn import metrics"
   ]
  },
  {
   "cell_type": "code",
   "execution_count": 63,
   "id": "5a424eda",
   "metadata": {},
   "outputs": [
    {
     "name": "stdout",
     "output_type": "stream",
     "text": [
      "Accuracy:  0.7290473159346489\n"
     ]
    }
   ],
   "source": [
    "model = ensemble.GradientBoostingClassifier(random_state=33)\n",
    "model.fit(x_train, y_train)\n",
    "print('Accuracy: ', metrics.accuracy_score(model.predict(x_test), y_test))"
   ]
  },
  {
   "cell_type": "code",
   "execution_count": 64,
   "id": "537b5e87",
   "metadata": {},
   "outputs": [],
   "source": [
    "from sklearn.preprocessing import StandardScaler, OneHotEncoder\n",
    "from sklearn.compose import ColumnTransformer\n",
    "from sklearn.pipeline import Pipeline\n",
    "\n",
    "# 숫자칼럼들만 모아서 전처리\n",
    "numeric_features = ['BMI', 'HighChol', 'Smoker', 'HvyAlcoholConsump', 'HighBP']\n",
    "numeric_transformer = StandardScaler() # cf) RobustScaler MinMaxScaler\n",
    "\n",
    "# 범주칼럼들만 모아서 전처리 \n",
    "categorical_features = ['Sex', 'CholCheck', 'HeartDiseaseorAttack',  'PhysActivity',  'Fruits', 'Veggies',  'DiffWalk', 'Stroke']\n",
    "categorical_transformer = OneHotEncoder(categories='auto', \n",
    "                                        handle_unknown='ignore',)\n",
    "# 전처리 객체 생성\n",
    "preprocessor = ColumnTransformer(\n",
    "    transformers=[ # List of (name, transformer, column(s))\n",
    "        ('num', numeric_transformer, numeric_features),\n",
    "        ('cat', categorical_transformer, categorical_features)])\n",
    "\n",
    "# 파이프라인 돌리기\n",
    "preprocessor_pipe = Pipeline(steps=[('preprocessor', preprocessor)]) # preprocessing-only\n",
    "preprocessor_pipe.fit(x_train)\n",
    "\n",
    "# 트랜스폼\n",
    "x_train_transformed = preprocessor_pipe.transform(x_train)\n",
    "x_test_transformed = preprocessor_pipe.transform(x_test)"
   ]
  },
  {
   "cell_type": "code",
   "execution_count": 65,
   "id": "d294dff1",
   "metadata": {},
   "outputs": [
    {
     "data": {
      "text/html": [
       "<div>\n",
       "<style scoped>\n",
       "    .dataframe tbody tr th:only-of-type {\n",
       "        vertical-align: middle;\n",
       "    }\n",
       "\n",
       "    .dataframe tbody tr th {\n",
       "        vertical-align: top;\n",
       "    }\n",
       "\n",
       "    .dataframe thead th {\n",
       "        text-align: right;\n",
       "    }\n",
       "</style>\n",
       "<table border=\"1\" class=\"dataframe\">\n",
       "  <thead>\n",
       "    <tr style=\"text-align: right;\">\n",
       "      <th></th>\n",
       "      <th>0</th>\n",
       "      <th>1</th>\n",
       "      <th>2</th>\n",
       "      <th>3</th>\n",
       "      <th>4</th>\n",
       "      <th>5</th>\n",
       "      <th>6</th>\n",
       "      <th>7</th>\n",
       "      <th>8</th>\n",
       "      <th>9</th>\n",
       "      <th>...</th>\n",
       "      <th>11</th>\n",
       "      <th>12</th>\n",
       "      <th>13</th>\n",
       "      <th>14</th>\n",
       "      <th>15</th>\n",
       "      <th>16</th>\n",
       "      <th>17</th>\n",
       "      <th>18</th>\n",
       "      <th>19</th>\n",
       "      <th>20</th>\n",
       "    </tr>\n",
       "  </thead>\n",
       "  <tbody>\n",
       "    <tr>\n",
       "      <th>0</th>\n",
       "      <td>0.299503</td>\n",
       "      <td>0.948944</td>\n",
       "      <td>1.049701</td>\n",
       "      <td>-0.211115</td>\n",
       "      <td>0.878471</td>\n",
       "      <td>1.0</td>\n",
       "      <td>0.0</td>\n",
       "      <td>0.0</td>\n",
       "      <td>1.0</td>\n",
       "      <td>0.0</td>\n",
       "      <td>...</td>\n",
       "      <td>0.0</td>\n",
       "      <td>1.0</td>\n",
       "      <td>0.0</td>\n",
       "      <td>1.0</td>\n",
       "      <td>0.0</td>\n",
       "      <td>1.0</td>\n",
       "      <td>1.0</td>\n",
       "      <td>0.0</td>\n",
       "      <td>1.0</td>\n",
       "      <td>0.0</td>\n",
       "    </tr>\n",
       "    <tr>\n",
       "      <th>1</th>\n",
       "      <td>-1.106694</td>\n",
       "      <td>0.948944</td>\n",
       "      <td>-0.952652</td>\n",
       "      <td>-0.211115</td>\n",
       "      <td>0.878471</td>\n",
       "      <td>1.0</td>\n",
       "      <td>0.0</td>\n",
       "      <td>0.0</td>\n",
       "      <td>1.0</td>\n",
       "      <td>1.0</td>\n",
       "      <td>...</td>\n",
       "      <td>0.0</td>\n",
       "      <td>1.0</td>\n",
       "      <td>1.0</td>\n",
       "      <td>0.0</td>\n",
       "      <td>1.0</td>\n",
       "      <td>0.0</td>\n",
       "      <td>1.0</td>\n",
       "      <td>0.0</td>\n",
       "      <td>1.0</td>\n",
       "      <td>0.0</td>\n",
       "    </tr>\n",
       "    <tr>\n",
       "      <th>2</th>\n",
       "      <td>0.721362</td>\n",
       "      <td>0.948944</td>\n",
       "      <td>-0.952652</td>\n",
       "      <td>-0.211115</td>\n",
       "      <td>0.878471</td>\n",
       "      <td>0.0</td>\n",
       "      <td>1.0</td>\n",
       "      <td>0.0</td>\n",
       "      <td>1.0</td>\n",
       "      <td>1.0</td>\n",
       "      <td>...</td>\n",
       "      <td>1.0</td>\n",
       "      <td>0.0</td>\n",
       "      <td>0.0</td>\n",
       "      <td>1.0</td>\n",
       "      <td>1.0</td>\n",
       "      <td>0.0</td>\n",
       "      <td>1.0</td>\n",
       "      <td>0.0</td>\n",
       "      <td>1.0</td>\n",
       "      <td>0.0</td>\n",
       "    </tr>\n",
       "    <tr>\n",
       "      <th>3</th>\n",
       "      <td>-0.825454</td>\n",
       "      <td>-1.053803</td>\n",
       "      <td>-0.952652</td>\n",
       "      <td>-0.211115</td>\n",
       "      <td>-1.138342</td>\n",
       "      <td>0.0</td>\n",
       "      <td>1.0</td>\n",
       "      <td>0.0</td>\n",
       "      <td>1.0</td>\n",
       "      <td>0.0</td>\n",
       "      <td>...</td>\n",
       "      <td>1.0</td>\n",
       "      <td>0.0</td>\n",
       "      <td>1.0</td>\n",
       "      <td>0.0</td>\n",
       "      <td>1.0</td>\n",
       "      <td>0.0</td>\n",
       "      <td>1.0</td>\n",
       "      <td>0.0</td>\n",
       "      <td>0.0</td>\n",
       "      <td>1.0</td>\n",
       "    </tr>\n",
       "    <tr>\n",
       "      <th>4</th>\n",
       "      <td>0.580742</td>\n",
       "      <td>0.948944</td>\n",
       "      <td>1.049701</td>\n",
       "      <td>-0.211115</td>\n",
       "      <td>0.878471</td>\n",
       "      <td>1.0</td>\n",
       "      <td>0.0</td>\n",
       "      <td>0.0</td>\n",
       "      <td>1.0</td>\n",
       "      <td>1.0</td>\n",
       "      <td>...</td>\n",
       "      <td>1.0</td>\n",
       "      <td>0.0</td>\n",
       "      <td>1.0</td>\n",
       "      <td>0.0</td>\n",
       "      <td>1.0</td>\n",
       "      <td>0.0</td>\n",
       "      <td>0.0</td>\n",
       "      <td>1.0</td>\n",
       "      <td>1.0</td>\n",
       "      <td>0.0</td>\n",
       "    </tr>\n",
       "    <tr>\n",
       "      <th>...</th>\n",
       "      <td>...</td>\n",
       "      <td>...</td>\n",
       "      <td>...</td>\n",
       "      <td>...</td>\n",
       "      <td>...</td>\n",
       "      <td>...</td>\n",
       "      <td>...</td>\n",
       "      <td>...</td>\n",
       "      <td>...</td>\n",
       "      <td>...</td>\n",
       "      <td>...</td>\n",
       "      <td>...</td>\n",
       "      <td>...</td>\n",
       "      <td>...</td>\n",
       "      <td>...</td>\n",
       "      <td>...</td>\n",
       "      <td>...</td>\n",
       "      <td>...</td>\n",
       "      <td>...</td>\n",
       "      <td>...</td>\n",
       "      <td>...</td>\n",
       "    </tr>\n",
       "    <tr>\n",
       "      <th>56548</th>\n",
       "      <td>-1.106694</td>\n",
       "      <td>-1.053803</td>\n",
       "      <td>1.049701</td>\n",
       "      <td>-0.211115</td>\n",
       "      <td>-1.138342</td>\n",
       "      <td>1.0</td>\n",
       "      <td>0.0</td>\n",
       "      <td>0.0</td>\n",
       "      <td>1.0</td>\n",
       "      <td>1.0</td>\n",
       "      <td>...</td>\n",
       "      <td>0.0</td>\n",
       "      <td>1.0</td>\n",
       "      <td>0.0</td>\n",
       "      <td>1.0</td>\n",
       "      <td>0.0</td>\n",
       "      <td>1.0</td>\n",
       "      <td>1.0</td>\n",
       "      <td>0.0</td>\n",
       "      <td>1.0</td>\n",
       "      <td>0.0</td>\n",
       "    </tr>\n",
       "    <tr>\n",
       "      <th>56549</th>\n",
       "      <td>-1.106694</td>\n",
       "      <td>0.948944</td>\n",
       "      <td>1.049701</td>\n",
       "      <td>4.736750</td>\n",
       "      <td>-1.138342</td>\n",
       "      <td>1.0</td>\n",
       "      <td>0.0</td>\n",
       "      <td>0.0</td>\n",
       "      <td>1.0</td>\n",
       "      <td>0.0</td>\n",
       "      <td>...</td>\n",
       "      <td>0.0</td>\n",
       "      <td>1.0</td>\n",
       "      <td>0.0</td>\n",
       "      <td>1.0</td>\n",
       "      <td>0.0</td>\n",
       "      <td>1.0</td>\n",
       "      <td>1.0</td>\n",
       "      <td>0.0</td>\n",
       "      <td>1.0</td>\n",
       "      <td>0.0</td>\n",
       "    </tr>\n",
       "    <tr>\n",
       "      <th>56550</th>\n",
       "      <td>-0.122356</td>\n",
       "      <td>0.948944</td>\n",
       "      <td>-0.952652</td>\n",
       "      <td>-0.211115</td>\n",
       "      <td>0.878471</td>\n",
       "      <td>1.0</td>\n",
       "      <td>0.0</td>\n",
       "      <td>0.0</td>\n",
       "      <td>1.0</td>\n",
       "      <td>1.0</td>\n",
       "      <td>...</td>\n",
       "      <td>0.0</td>\n",
       "      <td>1.0</td>\n",
       "      <td>0.0</td>\n",
       "      <td>1.0</td>\n",
       "      <td>0.0</td>\n",
       "      <td>1.0</td>\n",
       "      <td>1.0</td>\n",
       "      <td>0.0</td>\n",
       "      <td>1.0</td>\n",
       "      <td>0.0</td>\n",
       "    </tr>\n",
       "    <tr>\n",
       "      <th>56551</th>\n",
       "      <td>-0.122356</td>\n",
       "      <td>0.948944</td>\n",
       "      <td>1.049701</td>\n",
       "      <td>-0.211115</td>\n",
       "      <td>0.878471</td>\n",
       "      <td>1.0</td>\n",
       "      <td>0.0</td>\n",
       "      <td>0.0</td>\n",
       "      <td>1.0</td>\n",
       "      <td>0.0</td>\n",
       "      <td>...</td>\n",
       "      <td>0.0</td>\n",
       "      <td>1.0</td>\n",
       "      <td>0.0</td>\n",
       "      <td>1.0</td>\n",
       "      <td>0.0</td>\n",
       "      <td>1.0</td>\n",
       "      <td>0.0</td>\n",
       "      <td>1.0</td>\n",
       "      <td>1.0</td>\n",
       "      <td>0.0</td>\n",
       "    </tr>\n",
       "    <tr>\n",
       "      <th>56552</th>\n",
       "      <td>-1.106694</td>\n",
       "      <td>-1.053803</td>\n",
       "      <td>1.049701</td>\n",
       "      <td>4.736750</td>\n",
       "      <td>-1.138342</td>\n",
       "      <td>1.0</td>\n",
       "      <td>0.0</td>\n",
       "      <td>0.0</td>\n",
       "      <td>1.0</td>\n",
       "      <td>1.0</td>\n",
       "      <td>...</td>\n",
       "      <td>0.0</td>\n",
       "      <td>1.0</td>\n",
       "      <td>1.0</td>\n",
       "      <td>0.0</td>\n",
       "      <td>0.0</td>\n",
       "      <td>1.0</td>\n",
       "      <td>1.0</td>\n",
       "      <td>0.0</td>\n",
       "      <td>1.0</td>\n",
       "      <td>0.0</td>\n",
       "    </tr>\n",
       "  </tbody>\n",
       "</table>\n",
       "<p>56553 rows × 21 columns</p>\n",
       "</div>"
      ],
      "text/plain": [
       "             0         1         2         3         4    5    6    7    8   \\\n",
       "0      0.299503  0.948944  1.049701 -0.211115  0.878471  1.0  0.0  0.0  1.0   \n",
       "1     -1.106694  0.948944 -0.952652 -0.211115  0.878471  1.0  0.0  0.0  1.0   \n",
       "2      0.721362  0.948944 -0.952652 -0.211115  0.878471  0.0  1.0  0.0  1.0   \n",
       "3     -0.825454 -1.053803 -0.952652 -0.211115 -1.138342  0.0  1.0  0.0  1.0   \n",
       "4      0.580742  0.948944  1.049701 -0.211115  0.878471  1.0  0.0  0.0  1.0   \n",
       "...         ...       ...       ...       ...       ...  ...  ...  ...  ...   \n",
       "56548 -1.106694 -1.053803  1.049701 -0.211115 -1.138342  1.0  0.0  0.0  1.0   \n",
       "56549 -1.106694  0.948944  1.049701  4.736750 -1.138342  1.0  0.0  0.0  1.0   \n",
       "56550 -0.122356  0.948944 -0.952652 -0.211115  0.878471  1.0  0.0  0.0  1.0   \n",
       "56551 -0.122356  0.948944  1.049701 -0.211115  0.878471  1.0  0.0  0.0  1.0   \n",
       "56552 -1.106694 -1.053803  1.049701  4.736750 -1.138342  1.0  0.0  0.0  1.0   \n",
       "\n",
       "        9   ...   11   12   13   14   15   16   17   18   19   20  \n",
       "0      0.0  ...  0.0  1.0  0.0  1.0  0.0  1.0  1.0  0.0  1.0  0.0  \n",
       "1      1.0  ...  0.0  1.0  1.0  0.0  1.0  0.0  1.0  0.0  1.0  0.0  \n",
       "2      1.0  ...  1.0  0.0  0.0  1.0  1.0  0.0  1.0  0.0  1.0  0.0  \n",
       "3      0.0  ...  1.0  0.0  1.0  0.0  1.0  0.0  1.0  0.0  0.0  1.0  \n",
       "4      1.0  ...  1.0  0.0  1.0  0.0  1.0  0.0  0.0  1.0  1.0  0.0  \n",
       "...    ...  ...  ...  ...  ...  ...  ...  ...  ...  ...  ...  ...  \n",
       "56548  1.0  ...  0.0  1.0  0.0  1.0  0.0  1.0  1.0  0.0  1.0  0.0  \n",
       "56549  0.0  ...  0.0  1.0  0.0  1.0  0.0  1.0  1.0  0.0  1.0  0.0  \n",
       "56550  1.0  ...  0.0  1.0  0.0  1.0  0.0  1.0  1.0  0.0  1.0  0.0  \n",
       "56551  0.0  ...  0.0  1.0  0.0  1.0  0.0  1.0  0.0  1.0  1.0  0.0  \n",
       "56552  1.0  ...  0.0  1.0  1.0  0.0  0.0  1.0  1.0  0.0  1.0  0.0  \n",
       "\n",
       "[56553 rows x 21 columns]"
      ]
     },
     "execution_count": 65,
     "metadata": {},
     "output_type": "execute_result"
    }
   ],
   "source": [
    "pd.DataFrame(x_train_transformed)"
   ]
  },
  {
   "cell_type": "code",
   "execution_count": 66,
   "id": "db31a07d",
   "metadata": {},
   "outputs": [],
   "source": [
    "import numpy as np\n",
    "# import xgboost"
   ]
  },
  {
   "cell_type": "code",
   "execution_count": 67,
   "id": "464aada7",
   "metadata": {},
   "outputs": [],
   "source": [
    "y_train = np.array(y_train)\n",
    "y_test = np.array(y_test)"
   ]
  },
  {
   "cell_type": "code",
   "execution_count": 68,
   "id": "9c2090bf",
   "metadata": {},
   "outputs": [],
   "source": [
    "from sklearn.ensemble import GradientBoostingClassifier\n",
    "from sklearn.linear_model import LogisticRegression\n",
    "from sklearn.model_selection import train_test_split\n",
    "from sklearn.metrics import accuracy_score\n",
    "import numpy as np\n",
    "# from vecstack import stacking"
   ]
  },
  {
   "cell_type": "code",
   "execution_count": 69,
   "id": "0689aa4d",
   "metadata": {},
   "outputs": [],
   "source": [
    "# Gradient Boost의 파라미터를 지정해줌\n",
    "params = {'n_estimators': 100,\n",
    "          'max_depth': 4,\n",
    "          'min_samples_split': 5,\n",
    "          'learning_rate': 0.01}\n",
    "\n",
    "# 모델객체 생성\n",
    "# 모든 모델 정확도의 변동이 없게 하기 위해 random_state=0으로 고정함\n",
    "decisiontree = tree.DecisionTreeClassifier(random_state=0)\n",
    "adaboost = ensemble.AdaBoostClassifier(random_state=0)\n",
    "gradientboost = ensemble.GradientBoostingClassifier(random_state=0)\n",
    "# xgb_classfier = xgboost.XGBClassifier(random_state=0)\n",
    "kneighbors = neighbors.KNeighborsClassifier()\n",
    "support_vector_machine = svm.SVC(random_state=0)\n",
    "logisticlassfier = linear_model.LogisticRegression(random_state=0)\n",
    "\n",
    "\n",
    "# 생성한 모델을 리스트에 넣기\n",
    "models = [decisiontree, adaboost, gradientboost, kneighbors, support_vector_machine, logisticlassfier]"
   ]
  },
  {
   "cell_type": "code",
   "execution_count": null,
   "id": "940425d8",
   "metadata": {
    "scrolled": false
   },
   "outputs": [
    {
     "name": "stdout",
     "output_type": "stream",
     "text": [
      "-------------------------\n",
      "DecisionTreeClassifier\n",
      "train 정확도 : 0.7887114741923505\n",
      "test 정확도 : 0.6905721762500884\n",
      "군집분석 리포트 :               precision    recall  f1-score   support\n",
      "\n",
      "         0.0       0.68      0.72      0.70      7164\n",
      "         1.0       0.70      0.66      0.68      6975\n",
      "\n",
      "    accuracy                           0.69     14139\n",
      "   macro avg       0.69      0.69      0.69     14139\n",
      "weighted avg       0.69      0.69      0.69     14139\n",
      "\n",
      "-------------------------\n",
      "AdaBoostClassifier\n",
      "train 정확도 : 0.7248775484943327\n",
      "test 정확도 : 0.7284815050569348\n",
      "군집분석 리포트 :               precision    recall  f1-score   support\n",
      "\n",
      "         0.0       0.74      0.72      0.73      7164\n",
      "         1.0       0.72      0.73      0.73      6975\n",
      "\n",
      "    accuracy                           0.73     14139\n",
      "   macro avg       0.73      0.73      0.73     14139\n",
      "weighted avg       0.73      0.73      0.73     14139\n",
      "\n",
      "-------------------------\n",
      "GradientBoostingClassifier\n",
      "train 정확도 : 0.728484784184747\n",
      "test 정확도 : 0.7290473159346489\n",
      "군집분석 리포트 :               precision    recall  f1-score   support\n",
      "\n",
      "         0.0       0.75      0.70      0.72      7164\n",
      "         1.0       0.71      0.76      0.73      6975\n",
      "\n",
      "    accuracy                           0.73     14139\n",
      "   macro avg       0.73      0.73      0.73     14139\n",
      "weighted avg       0.73      0.73      0.73     14139\n",
      "\n",
      "-------------------------\n",
      "KNeighborsClassifier\n"
     ]
    }
   ],
   "source": [
    "# for문을 돌려서 학습, 예측 후 결과를 출력\n",
    "print ('-----'*5)\n",
    "for model in models:\n",
    "    model.fit(x_train_transformed, y_train)\n",
    "    print(model.__class__.__name__)\n",
    "    # print('MSE :',metrics.mean_squared_error(y_test, model.predict(x_test_transformed)))\n",
    "    print('train 정확도 :',metrics.accuracy_score(y_train, model.predict(x_train_transformed)))\n",
    "    print('test 정확도 :',metrics.accuracy_score(y_test, model.predict(x_test_transformed)))\n",
    "    print('군집분석 리포트 :',metrics.classification_report(y_test, model.predict(x_test_transformed)))\n",
    "    print ('-----'*5)\n",
    "\n",
    "model = GradientBoostingClassifier(random_state = 0, n_estimators = 100, max_depth = 3)\n",
    "model = model.fit(x_train, y_train) \n",
    "\n",
    "print('Stacking')\n",
    "print('train 정확도 :',metrics.accuracy_score(y_train, model.predict(x_train)))\n",
    "print('test 정확도 :',metrics.accuracy_score(y_test,model.predict(x_test)))"
   ]
  },
  {
   "cell_type": "markdown",
   "id": "182ea820",
   "metadata": {},
   "source": [
    "# Age컬럼만 삭제하기 위해 데이터 다시 불러옴"
   ]
  },
  {
   "cell_type": "code",
   "execution_count": null,
   "id": "b025ab51",
   "metadata": {},
   "outputs": [],
   "source": [
    "import pandas as pd"
   ]
  },
  {
   "cell_type": "code",
   "execution_count": null,
   "id": "24ff1106",
   "metadata": {},
   "outputs": [],
   "source": [
    "diabetes_df = pd.read_csv('./diabetes_data.csv')"
   ]
  },
  {
   "cell_type": "code",
   "execution_count": null,
   "id": "1b0d1bdb",
   "metadata": {},
   "outputs": [],
   "source": [
    "df1 = diabetes_df.copy()"
   ]
  },
  {
   "cell_type": "code",
   "execution_count": null,
   "id": "b970815c",
   "metadata": {
    "scrolled": false
   },
   "outputs": [],
   "source": [
    "y_data = df1[['Diabetes']]\n",
    "y_data"
   ]
  },
  {
   "cell_type": "code",
   "execution_count": null,
   "id": "368c0d69",
   "metadata": {},
   "outputs": [],
   "source": [
    "del df1['Diabetes']\n",
    "x_data = df1\n",
    "x_data = x_data[['Sex', 'HighChol', 'CholCheck', 'BMI', 'Smoker', 'HeartDiseaseorAttack', 'PhysActivity', 'Fruits', 'Veggies', 'HvyAlcoholConsump', 'GenHlth', 'MentHlth', 'PhysHlth', 'DiffWalk', 'Stroke', 'HighBP']]\n",
    "x_data"
   ]
  },
  {
   "cell_type": "code",
   "execution_count": null,
   "id": "eef908db",
   "metadata": {},
   "outputs": [],
   "source": [
    "import warnings\n",
    "warnings.filterwarnings(\"ignore\")\n",
    "\n",
    "from sklearn.model_selection import train_test_split"
   ]
  },
  {
   "cell_type": "code",
   "execution_count": null,
   "id": "bbc0102a",
   "metadata": {},
   "outputs": [],
   "source": [
    "x_train, x_test, y_train, y_test = train_test_split(x_data, y_data, test_size=0.2, random_state=33)"
   ]
  },
  {
   "cell_type": "code",
   "execution_count": null,
   "id": "903460b4",
   "metadata": {
    "scrolled": true
   },
   "outputs": [],
   "source": [
    "x_train.shape"
   ]
  },
  {
   "cell_type": "code",
   "execution_count": null,
   "id": "945c9d06",
   "metadata": {},
   "outputs": [],
   "source": [
    "x_test.shape"
   ]
  },
  {
   "cell_type": "code",
   "execution_count": null,
   "id": "49e17409",
   "metadata": {
    "scrolled": false
   },
   "outputs": [],
   "source": [
    "x_data"
   ]
  },
  {
   "cell_type": "markdown",
   "id": "47daaf8d",
   "metadata": {},
   "source": [
    "# Pipline"
   ]
  },
  {
   "cell_type": "code",
   "execution_count": null,
   "id": "cbd07a99",
   "metadata": {},
   "outputs": [],
   "source": [
    "from sklearn.preprocessing import StandardScaler, OneHotEncoder\n",
    "from sklearn.compose import ColumnTransformer\n",
    "from sklearn.pipeline import Pipeline\n",
    "\n",
    "# 숫자칼럼들만 모아서 전처리\n",
    "numeric_features = ['Sex', 'HighChol', 'BMI', 'HvyAlcoholConsump', 'HighBP']\n",
    "numeric_transformer = StandardScaler() # cf) RobustScaler MinMaxScaler\n",
    "\n",
    "# 범주칼럼들만 모아서 전처리 \n",
    "categorical_features = ['CholCheck', 'HeartDiseaseorAttack',  'Smoker', 'PhysActivity',  'Fruits', 'Veggies',  'GenHlth', 'MentHlth', 'PhysHlth', 'DiffWalk', 'Stroke']\n",
    "categorical_transformer = OneHotEncoder(categories='auto', \n",
    "                                        handle_unknown='ignore',)\n",
    "# 전처리 객체 생성\n",
    "preprocessor = ColumnTransformer(\n",
    "    transformers=[ # List of (name, transformer, column(s))\n",
    "        ('num', numeric_transformer, numeric_features),\n",
    "        ('cat', categorical_transformer, categorical_features)])\n",
    "\n",
    "# 파이프라인 돌리기\n",
    "preprocessor_pipe = Pipeline(steps=[('preprocessor', preprocessor)]) # preprocessing-only\n",
    "preprocessor_pipe.fit(x_train)\n",
    "\n",
    "# 트랜스폼\n",
    "x_train_transformed = preprocessor_pipe.transform(x_train)\n",
    "x_test_transformed = preprocessor_pipe.transform(x_test)"
   ]
  },
  {
   "cell_type": "code",
   "execution_count": null,
   "id": "becb0bbd",
   "metadata": {},
   "outputs": [],
   "source": [
    "# for문을 돌려서 학습, 예측 후 결과를 출력\n",
    "print ('-----'*5)\n",
    "for model in models:\n",
    "    model.fit(x_train_transformed, y_train)\n",
    "    print(model.__class__.__name__)\n",
    "    # print('MSE :',metrics.mean_squared_error(y_test, model.predict(x_test_transformed)))\n",
    "    print('train 정확도 :',metrics.accuracy_score(y_train, model.predict(x_train_transformed)))\n",
    "    print('test 정확도 :',metrics.accuracy_score(y_test, model.predict(x_test_transformed)))\n",
    "    print('군집분석 리포트 :',metrics.classification_report(y_test, model.predict(x_test_transformed)))\n",
    "    print ('-----'*5)\n",
    "\n",
    "model = GradientBoostingClassifier(random_state = 0, n_estimators = 100, max_depth = 3)\n",
    "model = model.fit(x_train, y_train) \n",
    "\n",
    "print('Stacking')\n",
    "print('train 정확도 :',metrics.accuracy_score(y_train, model.predict(x_train)))\n",
    "print('test 정확도 :',metrics.accuracy_score(y_test,model.predict(x_test)))"
   ]
  },
  {
   "cell_type": "markdown",
   "id": "d5c4fd21",
   "metadata": {},
   "source": [
    "# 그리드 서치"
   ]
  },
  {
   "cell_type": "code",
   "execution_count": null,
   "id": "4f1d5c2f",
   "metadata": {
    "scrolled": true
   },
   "outputs": [],
   "source": [
    "from sklearn.ensemble import GradientBoostingClassifier\n",
    "from sklearn.metrics import accuracy_score\n",
    "import time\n",
    "\n",
    "start_time = time.time()\n",
    "\n",
    "gb_clf = GradientBoostingClassifier()\n",
    "gb_clf.fit(x_train_transformed, y_train)\n",
    "gb_pred = gb_clf.predict(x_test_transformed)\n",
    "gb_acc = accuracy_score(y_test, gb_pred)\n",
    "\n",
    "print(f'모델 정확도: {gb_acc : .4f}')\n",
    "print(f'학습 시간: {time.time()-start_time : .4f}')\n",
    "\n",
    "from sklearn.model_selection import GridSearchCV\n",
    "\n",
    "params = {'n_estimators':[100, 250, 300, 350],\n",
    "          'max_depth':[2, 3, 4, 5,],\n",
    "          'min_samples_split': [3, 4,5,],\n",
    "          'learning_rate': [0.01, 0.1],\n",
    "          'random_state' : [0],\n",
    "         }\n",
    "\n",
    "\n",
    "grid_cv = GridSearchCV(gb_clf, param_grid=params,\n",
    "                      n_jobs=-1, cv=2, verbose=1)\n",
    "grid_cv.fit(x_train_transformed, y_train)\n",
    "\n",
    "print(f'최적의 파라미터:', grid_cv.best_params_)\n",
    "print(f'최고의 정확도:', grid_cv.best_score_)"
   ]
  },
  {
   "cell_type": "code",
   "execution_count": null,
   "id": "1a39d820",
   "metadata": {},
   "outputs": [],
   "source": [
    "from sklearn.metrics import accuracy_score\n",
    "\n",
    "params = {'n_estimators':300,\n",
    "          'max_depth':3,\n",
    "          'min_samples_split': 3,\n",
    "          'learning_rate': 0.01,\n",
    "          'random_state' : 0,\n",
    "         }\n",
    "\n",
    "\n",
    "gridsearched_gb = ensemble.GradientBoostingClassifier(**params)\n",
    "gridsearched_gb.fit(x_train_transformed, y_train)\n",
    "print('train 정확도 :',metrics.accuracy_score(y_train, gridsearched_gb.predict(x_train_transformed)))\n",
    "print('test 정확도 :',metrics.accuracy_score(y_test, gridsearched_gb.predict(x_test_transformed)))   "
   ]
  },
  {
   "cell_type": "code",
   "execution_count": null,
   "id": "a3bbdee6",
   "metadata": {
    "scrolled": true
   },
   "outputs": [],
   "source": [
    "import tensorflow as tf\n",
    "\n",
    "from tensorflow.keras import datasets, utils\n",
    "from tensorflow.keras import models, layers, activations, initializers, losses, optimizers, metrics"
   ]
  },
  {
   "cell_type": "code",
   "execution_count": null,
   "id": "2e62dafe",
   "metadata": {},
   "outputs": [],
   "source": [
    "# 마지막 학습 완료 시점을 기준으로 한 모델 성능\n",
    "\n",
    "x_train = utils.to_categorical(x_train)\n",
    "x_test = utils.to_categorical(x_test)\n",
    "\n",
    "y_train = utils.to_categorical(y_train)\n",
    "y_test = utils.to_categorical(y_test)\n",
    "\n",
    "\n",
    "model = models.Sequential() \n",
    "\n",
    "model.add(layers.Flatten())\n",
    "\n",
    "\n",
    "model.add(layers.Dense(input_dim=13, units=256, activation='relu', kernel_initializer='he_uniform')) \n",
    "model.add(layers.Dense(units=512, activation=tf.nn.relu, kernel_initializer='he_uniform')) # tf.nn 활용이 가능\n",
    "model.add(layers.Dense(units=512, activation=tf.nn.relu, kernel_initializer='he_uniform')) # tf.nn 활용이 가능\n",
    "model.add(layers.Dense(units=512, activation=tf.nn.relu, kernel_initializer='he_uniform')) # tf.nn 활용이 가능\n",
    "model.add(layers.Dropout(0.2))\n",
    "model.add(layers.Dense(units=2, activation=tf.nn.softmax)) # tf.nn 활용이 가능합니다.\n",
    "\n",
    "model.compile(optimizer='adam', \n",
    "              loss=losses., \n",
    "              metrics=['accuracy'])\n",
    "\n",
    "model.fit(x_train, y_train, batch_size=100, epochs=20, validation_split=0.2) \n",
    "\n",
    "result = model.evaluate(x_test, y_test, batch_size=100)\n",
    "print('loss (cross-entropy) :', result[0])\n",
    "print('test accuracy :', result[1])"
   ]
  },
  {
   "cell_type": "code",
   "execution_count": null,
   "id": "d90d6c67",
   "metadata": {},
   "outputs": [],
   "source": [
    "# 모델 체크포인트 파일(중간 저장 모델)을 저장할 경로 설정 \n",
    "checkpoint_path = 'saved_models/diabetes_layer_elu.h5' # 필히 saved_models 폴더를 먼저 만들어줘야 합니다\n",
    "# saved_models파일이 있어야 한다. 구글 드라이브에 있는 경로로 바뀔 수 있다.\n",
    "\n",
    "# \"ModelCheckpoint\" 콜백함수 객체 생성\n",
    "callback_checkpoint = tf.keras.callbacks.ModelCheckpoint(filepath=checkpoint_path, \n",
    "                                                         monitor='val_loss', # default\n",
    "                                                         save_best_only=True, # \"Save\" the \"best\" model \"only\"\n",
    "                                                         verbose=0)\n",
    "# 저장한 경로, 지워도 된다., 제일 좋은것을저장하라, 조용히 해라"
   ]
  },
  {
   "cell_type": "code",
   "execution_count": null,
   "id": "83baf5b7",
   "metadata": {},
   "outputs": [],
   "source": [
    "# 콜백함수를 호출하며 모델 학습 진행 \n",
    "history = model.fit(x_train, y_train, \n",
    "                    batch_size=100, epochs=100, validation_split=0.2, verbose=0,\n",
    "                    callbacks=[callback_checkpoint]) # 콜백 함수 추가\n",
    "# validation_split=7:2"
   ]
  },
  {
   "cell_type": "code",
   "execution_count": null,
   "id": "93874b08",
   "metadata": {},
   "outputs": [],
   "source": [
    "val_acc = history.history['val_accuracy']\n",
    "acc = history.history['accuracy']\n",
    "\n",
    "import numpy as np\n",
    "import matplotlib.pyplot as plt\n",
    "\n",
    "x_len = np.arange(len(acc))\n",
    "plt.plot(x_len, acc, marker='.', c='blue', label=\"Train-set Acc.\")\n",
    "plt.plot(x_len, val_acc, marker='.', c='red', label=\"Validation-set Acc.\")\n",
    "\n",
    "plt.legend(loc='lower right')\n",
    "plt.grid()\n",
    "plt.xlabel('epoch')\n",
    "plt.ylabel('Accuracy')\n",
    "plt.show()"
   ]
  },
  {
   "cell_type": "code",
   "execution_count": null,
   "id": "901fe835",
   "metadata": {},
   "outputs": [],
   "source": [
    "# 마지막 학습 완료 시점을 기준으로 한 모델 성능\n",
    "\n",
    "result = model.evaluate(x_test, y_test)  # 오버피팅나타날 확률이 높다.\n",
    "print('loss (cross-entropy) :', result[0])\n",
    "print('test accuracy :', result[1])"
   ]
  },
  {
   "cell_type": "code",
   "execution_count": null,
   "id": "87b83b99",
   "metadata": {},
   "outputs": [],
   "source": [
    "# 가장 낮은 Validation loss를 기준으로 한 (저장된) 모델 성능\n",
    "\n",
    "model = models.load_model('saved_models/diabetes_layer_elu.h5') # \"Load\" the \"model\"  # 모델을 가져옴, 데이터가 적어서 이렇게 나옴\n",
    "\n",
    "result = model.evaluate(x_test, y_test)\n",
    "print('loss (cross-entropy) :', result[0])\n",
    "print('test accuracy :', result[1])"
   ]
  },
  {
   "cell_type": "code",
   "execution_count": null,
   "id": "3043491e",
   "metadata": {},
   "outputs": [],
   "source": []
  }
 ],
 "metadata": {
  "kernelspec": {
   "display_name": "Python 3",
   "language": "python",
   "name": "python3"
  },
  "language_info": {
   "codemirror_mode": {
    "name": "ipython",
    "version": 3
   },
   "file_extension": ".py",
   "mimetype": "text/x-python",
   "name": "python",
   "nbconvert_exporter": "python",
   "pygments_lexer": "ipython3",
   "version": "3.8.8"
  }
 },
 "nbformat": 4,
 "nbformat_minor": 5
}
